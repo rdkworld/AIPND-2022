{
  "nbformat": 4,
  "nbformat_minor": 0,
  "metadata": {
    "colab": {
      "name": "Train an Existing Pytorch Model.ipynb",
      "provenance": [],
      "authorship_tag": "ABX9TyMmacarkpxRcYkJ5jWINNeY",
      "include_colab_link": true
    },
    "kernelspec": {
      "name": "python3",
      "display_name": "Python 3"
    },
    "language_info": {
      "name": "python"
    },
    "accelerator": "GPU",
    "gpuClass": "standard"
  },
  "cells": [
    {
      "cell_type": "markdown",
      "metadata": {
        "id": "view-in-github",
        "colab_type": "text"
      },
      "source": [
        "<a href=\"https://colab.research.google.com/github/rdkworld/AIPND-2022/blob/main/Generalized/Train_an_Existing_Pytorch_Model.ipynb\" target=\"_parent\"><img src=\"https://colab.research.google.com/assets/colab-badge.svg\" alt=\"Open In Colab\"/></a>"
      ]
    },
    {
      "cell_type": "markdown",
      "source": [
        "##Pre-requisite Setup"
      ],
      "metadata": {
        "id": "0PB5a4bgZY0I"
      }
    },
    {
      "cell_type": "markdown",
      "source": [
        "###Get Libraries"
      ],
      "metadata": {
        "id": "06WelAjucNyF"
      }
    },
    {
      "cell_type": "code",
      "execution_count": 1,
      "metadata": {
        "colab": {
          "base_uri": "https://localhost:8080/"
        },
        "id": "D7zy5B3MY-ON",
        "outputId": "e32253ad-8526-4057-9950-541a0250e101"
      },
      "outputs": [
        {
          "output_type": "stream",
          "name": "stdout",
          "text": [
            "torch version: 1.12.1+cu113\n",
            "torchvision version: 0.13.1+cu113\n"
          ]
        }
      ],
      "source": [
        "# For this notebook to run with updated APIs, we need torch 1.12+ and torchvision 0.13+\n",
        "try:\n",
        "    import torch\n",
        "    import torchvision\n",
        "    assert int(torch.__version__.split(\".\")[1]) >= 12, \"torch version should be 1.12+\"\n",
        "    assert int(torchvision.__version__.split(\".\")[1]) >= 13, \"torchvision version should be 0.13+\"\n",
        "    print(f\"torch version: {torch.__version__}\")\n",
        "    print(f\"torchvision version: {torchvision.__version__}\")\n",
        "except:\n",
        "    print(f\"[INFO] torch/torchvision versions not as required, installing nightly versions.\")\n",
        "    !pip3 install -U --pre torch torchvision torchaudio --extra-index-url https://download.pytorch.org/whl/nightly/cu113\n",
        "    import torch\n",
        "    import torchvision\n",
        "    print(f\"torch version: {torch.__version__}\")\n",
        "    print(f\"torchvision version: {torchvision.__version__}\")"
      ]
    },
    {
      "cell_type": "markdown",
      "source": [
        "###Regular Imports"
      ],
      "metadata": {
        "id": "TjUjLP0OcUQv"
      }
    },
    {
      "cell_type": "code",
      "source": [
        "# Continue with regular imports\n",
        "import matplotlib.pyplot as plt\n",
        "import torch\n",
        "import torchvision\n",
        "\n",
        "from torch import nn\n",
        "from torchvision import transforms\n",
        "\n",
        "# Try to get torchinfo, install it if it doesn't work\n",
        "try:\n",
        "    from torchinfo import summary\n",
        "except:\n",
        "    print(\"[INFO] Couldn't find torchinfo... installing it.\")\n",
        "    !pip install -q torchinfo\n",
        "    from torchinfo import summary\n",
        "\n",
        "#Additions from functions\n",
        "import os"
      ],
      "metadata": {
        "id": "jxBuV0LRalcM"
      },
      "execution_count": 3,
      "outputs": []
    },
    {
      "cell_type": "markdown",
      "source": [
        "###Helpers/functions from Github"
      ],
      "metadata": {
        "id": "FvxZuuRJcieX"
      }
    },
    {
      "cell_type": "code",
      "source": [
        "# Try to import the helper functions, download it from GitHub if it doesn't work\n",
        "try:\n",
        "    import data_setup, engine\n",
        "    from helper_functions import download_data, set_seeds, plot_loss_curves\n",
        "except:\n",
        "    # Get the scripts\n",
        "    print(\"[INFO] Couldn't find the scripts... downloading them from GitHub.\")\n",
        "    !git clone https://github.com/rdkworld/AIPND-2022\n",
        "    !mv AIPND-2022/Generalized/*.py .\n",
        "    !rm -rf AIPND-2022\n",
        "    import data_setup, engine, model_builder, utils \n",
        "    from helper_functions import download_data, set_seeds, plot_loss_curves"
      ],
      "metadata": {
        "colab": {
          "base_uri": "https://localhost:8080/"
        },
        "id": "xy7UmQPTchnY",
        "outputId": "f0c62e97-11e9-420a-f007-61f5036b0b2d"
      },
      "execution_count": 4,
      "outputs": [
        {
          "output_type": "stream",
          "name": "stdout",
          "text": [
            "[INFO] Couldn't find the scripts... downloading them from GitHub.\n",
            "Cloning into 'AIPND-2022'...\n",
            "remote: Enumerating objects: 284, done.\u001b[K\n",
            "remote: Counting objects: 100% (174/174), done.\u001b[K\n",
            "remote: Compressing objects: 100% (118/118), done.\u001b[K\n",
            "remote: Total 284 (delta 83), reused 116 (delta 53), pack-reused 110\u001b[K\n",
            "Receiving objects: 100% (284/284), 11.00 MiB | 14.87 MiB/s, done.\n",
            "Resolving deltas: 100% (105/105), done.\n"
          ]
        }
      ]
    },
    {
      "cell_type": "markdown",
      "source": [
        "### Connect Colab and Google Drive to save and load models"
      ],
      "metadata": {
        "id": "hpHEp3Wsg5Nn"
      }
    },
    {
      "cell_type": "code",
      "source": [
        "#Mount Google Drive \n",
        "from google.colab import drive\n",
        "drive.mount('/content/drive')"
      ],
      "metadata": {
        "id": "-8ByoAzAg3sB"
      },
      "execution_count": null,
      "outputs": []
    },
    {
      "cell_type": "markdown",
      "source": [
        "###Setup target device"
      ],
      "metadata": {
        "id": "ObsXXY47efcQ"
      }
    },
    {
      "cell_type": "code",
      "source": [
        "# Setup target device\n",
        "device = \"cuda\" if torch.cuda.is_available() else \"cpu\"\n",
        "device"
      ],
      "metadata": {
        "colab": {
          "base_uri": "https://localhost:8080/",
          "height": 36
        },
        "id": "P61CnE2WedzB",
        "outputId": "a53fb015-ed89-490d-813c-7b588c892630"
      },
      "execution_count": 7,
      "outputs": [
        {
          "output_type": "execute_result",
          "data": {
            "text/plain": [
              "'cuda'"
            ],
            "application/vnd.google.colaboratory.intrinsic+json": {
              "type": "string"
            }
          },
          "metadata": {},
          "execution_count": 7
        }
      ]
    },
    {
      "cell_type": "markdown",
      "source": [
        "## User input Parameters including Hyperparameters"
      ],
      "metadata": {
        "id": "h_MFjg_Ke8G1"
      }
    },
    {
      "cell_type": "code",
      "source": [
        "#Data\n",
        "SOURCE_URL = 'https://www.robots.ox.ac.uk/~vgg/data/flowers/102/102flowers.tgz'\n",
        "BASE_DATA_DIRECTORY = 'data'\n",
        "PROJECT_DATA_DIRECTORY = 'flowers'\n",
        "FILE_NAME = 'flowers.tar.gz'\n",
        "train_dir = f\"{BASE_DATA_DIRECTORY}/{PROJECT_DATA_DIRECTORY}/train\"\n",
        "valid_dir = f\"{BASE_DATA_DIRECTORY}/{PROJECT_DATA_DIRECTORY}/valid\"\n",
        "test_dir = f\"{BASE_DATA_DIRECTORY}/{PROJECT_DATA_DIRECTORY}/test\"\n",
        "\n",
        "# Setup hyperparameters\n",
        "NUM_EPOCHS = 5\n",
        "BATCH_SIZE = 64\n",
        "HIDDEN_UNITS = '' #Not used\n",
        "LEARNING_RATE = 0.003\n",
        "MODEL_NAME = 'ViT_B_16'\n",
        "LOSS_FUNCTION = 'CrossEntropyLoss'\n",
        "OPTIMIZER = 'Adam'\n",
        "MANUAL_RESIZE = 64\n"
      ],
      "metadata": {
        "id": "5Eo7rXBefwJT"
      },
      "execution_count": 15,
      "outputs": []
    },
    {
      "cell_type": "markdown",
      "source": [
        "##Download data and categorize into train/valid/test folders as required"
      ],
      "metadata": {
        "id": "IFcdIJxzdetT"
      }
    },
    {
      "cell_type": "code",
      "source": [
        "#Work in Progress, See next cell\n",
        "!ls"
      ],
      "metadata": {
        "colab": {
          "base_uri": "https://localhost:8080/"
        },
        "id": "O_uuT5PTdAgF",
        "outputId": "18111a0a-4c72-422f-fabb-c9f282978f93"
      },
      "execution_count": 16,
      "outputs": [
        {
          "output_type": "stream",
          "name": "stdout",
          "text": [
            "data\t       engine.py\t    model_builder.py  __pycache__  train.py\n",
            "data_setup.py  helper_functions.py  predictions.py    sample_data  utils.py\n"
          ]
        }
      ]
    },
    {
      "cell_type": "code",
      "source": [
        "#Temporarily copy from Google Drive\n",
        "#!mkdir $BASE_DATA_DIRECTORY\n",
        "!cp /content/drive/MyDrive/flowers.tar.gz data/ #copy from drive to colab"
      ],
      "metadata": {
        "id": "HIo3yrwvh8mM"
      },
      "execution_count": 12,
      "outputs": []
    }
  ]
}