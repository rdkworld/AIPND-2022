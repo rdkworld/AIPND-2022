{
  "nbformat": 4,
  "nbformat_minor": 0,
  "metadata": {
    "colab": {
      "name": "Train an Existing Pytorch Model.ipynb",
      "provenance": [],
      "authorship_tag": "ABX9TyPkkB8Ly0sqU6zukC2rTd9k",
      "include_colab_link": true
    },
    "kernelspec": {
      "name": "python3",
      "display_name": "Python 3"
    },
    "language_info": {
      "name": "python"
    },
    "accelerator": "GPU",
    "gpuClass": "standard",
    "widgets": {
      "application/vnd.jupyter.widget-state+json": {
        "8b6a226f50c44ae9b156f652ea3e30a7": {
          "model_module": "@jupyter-widgets/controls",
          "model_name": "HBoxModel",
          "model_module_version": "1.5.0",
          "state": {
            "_dom_classes": [],
            "_model_module": "@jupyter-widgets/controls",
            "_model_module_version": "1.5.0",
            "_model_name": "HBoxModel",
            "_view_count": null,
            "_view_module": "@jupyter-widgets/controls",
            "_view_module_version": "1.5.0",
            "_view_name": "HBoxView",
            "box_style": "",
            "children": [
              "IPY_MODEL_5c7365abdf52474ba3019646ad1ad00b",
              "IPY_MODEL_945e32cebec44f4699060d938683b768",
              "IPY_MODEL_63df55fc348f4bc1a91dfe3ac20cd1a1"
            ],
            "layout": "IPY_MODEL_84d812e2477f4b2b89322cbf81371bb4"
          }
        },
        "5c7365abdf52474ba3019646ad1ad00b": {
          "model_module": "@jupyter-widgets/controls",
          "model_name": "HTMLModel",
          "model_module_version": "1.5.0",
          "state": {
            "_dom_classes": [],
            "_model_module": "@jupyter-widgets/controls",
            "_model_module_version": "1.5.0",
            "_model_name": "HTMLModel",
            "_view_count": null,
            "_view_module": "@jupyter-widgets/controls",
            "_view_module_version": "1.5.0",
            "_view_name": "HTMLView",
            "description": "",
            "description_tooltip": null,
            "layout": "IPY_MODEL_aa65bccfaf724aeebab1194125027a87",
            "placeholder": "​",
            "style": "IPY_MODEL_ac4e12831c904a7ea0b0f781baa6e677",
            "value": "100%"
          }
        },
        "945e32cebec44f4699060d938683b768": {
          "model_module": "@jupyter-widgets/controls",
          "model_name": "FloatProgressModel",
          "model_module_version": "1.5.0",
          "state": {
            "_dom_classes": [],
            "_model_module": "@jupyter-widgets/controls",
            "_model_module_version": "1.5.0",
            "_model_name": "FloatProgressModel",
            "_view_count": null,
            "_view_module": "@jupyter-widgets/controls",
            "_view_module_version": "1.5.0",
            "_view_name": "ProgressView",
            "bar_style": "success",
            "description": "",
            "description_tooltip": null,
            "layout": "IPY_MODEL_f3b6dd142deb4a099b2ea6cff903ab4e",
            "max": 346328529,
            "min": 0,
            "orientation": "horizontal",
            "style": "IPY_MODEL_b4b6bdd03e9249eca768f652d189c4ad",
            "value": 346328529
          }
        },
        "63df55fc348f4bc1a91dfe3ac20cd1a1": {
          "model_module": "@jupyter-widgets/controls",
          "model_name": "HTMLModel",
          "model_module_version": "1.5.0",
          "state": {
            "_dom_classes": [],
            "_model_module": "@jupyter-widgets/controls",
            "_model_module_version": "1.5.0",
            "_model_name": "HTMLModel",
            "_view_count": null,
            "_view_module": "@jupyter-widgets/controls",
            "_view_module_version": "1.5.0",
            "_view_name": "HTMLView",
            "description": "",
            "description_tooltip": null,
            "layout": "IPY_MODEL_c133ed7584be448796fc71adf3138f21",
            "placeholder": "​",
            "style": "IPY_MODEL_2521922b8fee449a82aba3018af7a40e",
            "value": " 330M/330M [00:02&lt;00:00, 109MB/s]"
          }
        },
        "84d812e2477f4b2b89322cbf81371bb4": {
          "model_module": "@jupyter-widgets/base",
          "model_name": "LayoutModel",
          "model_module_version": "1.2.0",
          "state": {
            "_model_module": "@jupyter-widgets/base",
            "_model_module_version": "1.2.0",
            "_model_name": "LayoutModel",
            "_view_count": null,
            "_view_module": "@jupyter-widgets/base",
            "_view_module_version": "1.2.0",
            "_view_name": "LayoutView",
            "align_content": null,
            "align_items": null,
            "align_self": null,
            "border": null,
            "bottom": null,
            "display": null,
            "flex": null,
            "flex_flow": null,
            "grid_area": null,
            "grid_auto_columns": null,
            "grid_auto_flow": null,
            "grid_auto_rows": null,
            "grid_column": null,
            "grid_gap": null,
            "grid_row": null,
            "grid_template_areas": null,
            "grid_template_columns": null,
            "grid_template_rows": null,
            "height": null,
            "justify_content": null,
            "justify_items": null,
            "left": null,
            "margin": null,
            "max_height": null,
            "max_width": null,
            "min_height": null,
            "min_width": null,
            "object_fit": null,
            "object_position": null,
            "order": null,
            "overflow": null,
            "overflow_x": null,
            "overflow_y": null,
            "padding": null,
            "right": null,
            "top": null,
            "visibility": null,
            "width": null
          }
        },
        "aa65bccfaf724aeebab1194125027a87": {
          "model_module": "@jupyter-widgets/base",
          "model_name": "LayoutModel",
          "model_module_version": "1.2.0",
          "state": {
            "_model_module": "@jupyter-widgets/base",
            "_model_module_version": "1.2.0",
            "_model_name": "LayoutModel",
            "_view_count": null,
            "_view_module": "@jupyter-widgets/base",
            "_view_module_version": "1.2.0",
            "_view_name": "LayoutView",
            "align_content": null,
            "align_items": null,
            "align_self": null,
            "border": null,
            "bottom": null,
            "display": null,
            "flex": null,
            "flex_flow": null,
            "grid_area": null,
            "grid_auto_columns": null,
            "grid_auto_flow": null,
            "grid_auto_rows": null,
            "grid_column": null,
            "grid_gap": null,
            "grid_row": null,
            "grid_template_areas": null,
            "grid_template_columns": null,
            "grid_template_rows": null,
            "height": null,
            "justify_content": null,
            "justify_items": null,
            "left": null,
            "margin": null,
            "max_height": null,
            "max_width": null,
            "min_height": null,
            "min_width": null,
            "object_fit": null,
            "object_position": null,
            "order": null,
            "overflow": null,
            "overflow_x": null,
            "overflow_y": null,
            "padding": null,
            "right": null,
            "top": null,
            "visibility": null,
            "width": null
          }
        },
        "ac4e12831c904a7ea0b0f781baa6e677": {
          "model_module": "@jupyter-widgets/controls",
          "model_name": "DescriptionStyleModel",
          "model_module_version": "1.5.0",
          "state": {
            "_model_module": "@jupyter-widgets/controls",
            "_model_module_version": "1.5.0",
            "_model_name": "DescriptionStyleModel",
            "_view_count": null,
            "_view_module": "@jupyter-widgets/base",
            "_view_module_version": "1.2.0",
            "_view_name": "StyleView",
            "description_width": ""
          }
        },
        "f3b6dd142deb4a099b2ea6cff903ab4e": {
          "model_module": "@jupyter-widgets/base",
          "model_name": "LayoutModel",
          "model_module_version": "1.2.0",
          "state": {
            "_model_module": "@jupyter-widgets/base",
            "_model_module_version": "1.2.0",
            "_model_name": "LayoutModel",
            "_view_count": null,
            "_view_module": "@jupyter-widgets/base",
            "_view_module_version": "1.2.0",
            "_view_name": "LayoutView",
            "align_content": null,
            "align_items": null,
            "align_self": null,
            "border": null,
            "bottom": null,
            "display": null,
            "flex": null,
            "flex_flow": null,
            "grid_area": null,
            "grid_auto_columns": null,
            "grid_auto_flow": null,
            "grid_auto_rows": null,
            "grid_column": null,
            "grid_gap": null,
            "grid_row": null,
            "grid_template_areas": null,
            "grid_template_columns": null,
            "grid_template_rows": null,
            "height": null,
            "justify_content": null,
            "justify_items": null,
            "left": null,
            "margin": null,
            "max_height": null,
            "max_width": null,
            "min_height": null,
            "min_width": null,
            "object_fit": null,
            "object_position": null,
            "order": null,
            "overflow": null,
            "overflow_x": null,
            "overflow_y": null,
            "padding": null,
            "right": null,
            "top": null,
            "visibility": null,
            "width": null
          }
        },
        "b4b6bdd03e9249eca768f652d189c4ad": {
          "model_module": "@jupyter-widgets/controls",
          "model_name": "ProgressStyleModel",
          "model_module_version": "1.5.0",
          "state": {
            "_model_module": "@jupyter-widgets/controls",
            "_model_module_version": "1.5.0",
            "_model_name": "ProgressStyleModel",
            "_view_count": null,
            "_view_module": "@jupyter-widgets/base",
            "_view_module_version": "1.2.0",
            "_view_name": "StyleView",
            "bar_color": null,
            "description_width": ""
          }
        },
        "c133ed7584be448796fc71adf3138f21": {
          "model_module": "@jupyter-widgets/base",
          "model_name": "LayoutModel",
          "model_module_version": "1.2.0",
          "state": {
            "_model_module": "@jupyter-widgets/base",
            "_model_module_version": "1.2.0",
            "_model_name": "LayoutModel",
            "_view_count": null,
            "_view_module": "@jupyter-widgets/base",
            "_view_module_version": "1.2.0",
            "_view_name": "LayoutView",
            "align_content": null,
            "align_items": null,
            "align_self": null,
            "border": null,
            "bottom": null,
            "display": null,
            "flex": null,
            "flex_flow": null,
            "grid_area": null,
            "grid_auto_columns": null,
            "grid_auto_flow": null,
            "grid_auto_rows": null,
            "grid_column": null,
            "grid_gap": null,
            "grid_row": null,
            "grid_template_areas": null,
            "grid_template_columns": null,
            "grid_template_rows": null,
            "height": null,
            "justify_content": null,
            "justify_items": null,
            "left": null,
            "margin": null,
            "max_height": null,
            "max_width": null,
            "min_height": null,
            "min_width": null,
            "object_fit": null,
            "object_position": null,
            "order": null,
            "overflow": null,
            "overflow_x": null,
            "overflow_y": null,
            "padding": null,
            "right": null,
            "top": null,
            "visibility": null,
            "width": null
          }
        },
        "2521922b8fee449a82aba3018af7a40e": {
          "model_module": "@jupyter-widgets/controls",
          "model_name": "DescriptionStyleModel",
          "model_module_version": "1.5.0",
          "state": {
            "_model_module": "@jupyter-widgets/controls",
            "_model_module_version": "1.5.0",
            "_model_name": "DescriptionStyleModel",
            "_view_count": null,
            "_view_module": "@jupyter-widgets/base",
            "_view_module_version": "1.2.0",
            "_view_name": "StyleView",
            "description_width": ""
          }
        },
        "9d0d3032ea064851a1640e6572fe83b0": {
          "model_module": "@jupyter-widgets/controls",
          "model_name": "HBoxModel",
          "model_module_version": "1.5.0",
          "state": {
            "_dom_classes": [],
            "_model_module": "@jupyter-widgets/controls",
            "_model_module_version": "1.5.0",
            "_model_name": "HBoxModel",
            "_view_count": null,
            "_view_module": "@jupyter-widgets/controls",
            "_view_module_version": "1.5.0",
            "_view_name": "HBoxView",
            "box_style": "",
            "children": [
              "IPY_MODEL_d8aad69a017a4b609299f4d098442f95",
              "IPY_MODEL_8639b1af8c454f81b4af728af2c37ef9",
              "IPY_MODEL_df5f25cc164d45fc83bf8805c2e146fa"
            ],
            "layout": "IPY_MODEL_f84155a1da7340f29a9cb36ae7afdfc3"
          }
        },
        "d8aad69a017a4b609299f4d098442f95": {
          "model_module": "@jupyter-widgets/controls",
          "model_name": "HTMLModel",
          "model_module_version": "1.5.0",
          "state": {
            "_dom_classes": [],
            "_model_module": "@jupyter-widgets/controls",
            "_model_module_version": "1.5.0",
            "_model_name": "HTMLModel",
            "_view_count": null,
            "_view_module": "@jupyter-widgets/controls",
            "_view_module_version": "1.5.0",
            "_view_name": "HTMLView",
            "description": "",
            "description_tooltip": null,
            "layout": "IPY_MODEL_e05ea4dd37bd42d7a1c5089e220502d7",
            "placeholder": "​",
            "style": "IPY_MODEL_027cad0e5c3e4827acfff8020b70eef8",
            "value": "100%"
          }
        },
        "8639b1af8c454f81b4af728af2c37ef9": {
          "model_module": "@jupyter-widgets/controls",
          "model_name": "FloatProgressModel",
          "model_module_version": "1.5.0",
          "state": {
            "_dom_classes": [],
            "_model_module": "@jupyter-widgets/controls",
            "_model_module_version": "1.5.0",
            "_model_name": "FloatProgressModel",
            "_view_count": null,
            "_view_module": "@jupyter-widgets/controls",
            "_view_module_version": "1.5.0",
            "_view_name": "ProgressView",
            "bar_style": "success",
            "description": "",
            "description_tooltip": null,
            "layout": "IPY_MODEL_c2c5c80587904ee994982d9d33c95d25",
            "max": 5,
            "min": 0,
            "orientation": "horizontal",
            "style": "IPY_MODEL_583d347667714e2ea9088bdc038172d2",
            "value": 5
          }
        },
        "df5f25cc164d45fc83bf8805c2e146fa": {
          "model_module": "@jupyter-widgets/controls",
          "model_name": "HTMLModel",
          "model_module_version": "1.5.0",
          "state": {
            "_dom_classes": [],
            "_model_module": "@jupyter-widgets/controls",
            "_model_module_version": "1.5.0",
            "_model_name": "HTMLModel",
            "_view_count": null,
            "_view_module": "@jupyter-widgets/controls",
            "_view_module_version": "1.5.0",
            "_view_name": "HTMLView",
            "description": "",
            "description_tooltip": null,
            "layout": "IPY_MODEL_a787905dab144f568f4ed3b345ec27e5",
            "placeholder": "​",
            "style": "IPY_MODEL_a15c7084601741c2b71d0c4f3b5d93d8",
            "value": " 5/5 [07:46&lt;00:00, 93.69s/it]"
          }
        },
        "f84155a1da7340f29a9cb36ae7afdfc3": {
          "model_module": "@jupyter-widgets/base",
          "model_name": "LayoutModel",
          "model_module_version": "1.2.0",
          "state": {
            "_model_module": "@jupyter-widgets/base",
            "_model_module_version": "1.2.0",
            "_model_name": "LayoutModel",
            "_view_count": null,
            "_view_module": "@jupyter-widgets/base",
            "_view_module_version": "1.2.0",
            "_view_name": "LayoutView",
            "align_content": null,
            "align_items": null,
            "align_self": null,
            "border": null,
            "bottom": null,
            "display": null,
            "flex": null,
            "flex_flow": null,
            "grid_area": null,
            "grid_auto_columns": null,
            "grid_auto_flow": null,
            "grid_auto_rows": null,
            "grid_column": null,
            "grid_gap": null,
            "grid_row": null,
            "grid_template_areas": null,
            "grid_template_columns": null,
            "grid_template_rows": null,
            "height": null,
            "justify_content": null,
            "justify_items": null,
            "left": null,
            "margin": null,
            "max_height": null,
            "max_width": null,
            "min_height": null,
            "min_width": null,
            "object_fit": null,
            "object_position": null,
            "order": null,
            "overflow": null,
            "overflow_x": null,
            "overflow_y": null,
            "padding": null,
            "right": null,
            "top": null,
            "visibility": null,
            "width": null
          }
        },
        "e05ea4dd37bd42d7a1c5089e220502d7": {
          "model_module": "@jupyter-widgets/base",
          "model_name": "LayoutModel",
          "model_module_version": "1.2.0",
          "state": {
            "_model_module": "@jupyter-widgets/base",
            "_model_module_version": "1.2.0",
            "_model_name": "LayoutModel",
            "_view_count": null,
            "_view_module": "@jupyter-widgets/base",
            "_view_module_version": "1.2.0",
            "_view_name": "LayoutView",
            "align_content": null,
            "align_items": null,
            "align_self": null,
            "border": null,
            "bottom": null,
            "display": null,
            "flex": null,
            "flex_flow": null,
            "grid_area": null,
            "grid_auto_columns": null,
            "grid_auto_flow": null,
            "grid_auto_rows": null,
            "grid_column": null,
            "grid_gap": null,
            "grid_row": null,
            "grid_template_areas": null,
            "grid_template_columns": null,
            "grid_template_rows": null,
            "height": null,
            "justify_content": null,
            "justify_items": null,
            "left": null,
            "margin": null,
            "max_height": null,
            "max_width": null,
            "min_height": null,
            "min_width": null,
            "object_fit": null,
            "object_position": null,
            "order": null,
            "overflow": null,
            "overflow_x": null,
            "overflow_y": null,
            "padding": null,
            "right": null,
            "top": null,
            "visibility": null,
            "width": null
          }
        },
        "027cad0e5c3e4827acfff8020b70eef8": {
          "model_module": "@jupyter-widgets/controls",
          "model_name": "DescriptionStyleModel",
          "model_module_version": "1.5.0",
          "state": {
            "_model_module": "@jupyter-widgets/controls",
            "_model_module_version": "1.5.0",
            "_model_name": "DescriptionStyleModel",
            "_view_count": null,
            "_view_module": "@jupyter-widgets/base",
            "_view_module_version": "1.2.0",
            "_view_name": "StyleView",
            "description_width": ""
          }
        },
        "c2c5c80587904ee994982d9d33c95d25": {
          "model_module": "@jupyter-widgets/base",
          "model_name": "LayoutModel",
          "model_module_version": "1.2.0",
          "state": {
            "_model_module": "@jupyter-widgets/base",
            "_model_module_version": "1.2.0",
            "_model_name": "LayoutModel",
            "_view_count": null,
            "_view_module": "@jupyter-widgets/base",
            "_view_module_version": "1.2.0",
            "_view_name": "LayoutView",
            "align_content": null,
            "align_items": null,
            "align_self": null,
            "border": null,
            "bottom": null,
            "display": null,
            "flex": null,
            "flex_flow": null,
            "grid_area": null,
            "grid_auto_columns": null,
            "grid_auto_flow": null,
            "grid_auto_rows": null,
            "grid_column": null,
            "grid_gap": null,
            "grid_row": null,
            "grid_template_areas": null,
            "grid_template_columns": null,
            "grid_template_rows": null,
            "height": null,
            "justify_content": null,
            "justify_items": null,
            "left": null,
            "margin": null,
            "max_height": null,
            "max_width": null,
            "min_height": null,
            "min_width": null,
            "object_fit": null,
            "object_position": null,
            "order": null,
            "overflow": null,
            "overflow_x": null,
            "overflow_y": null,
            "padding": null,
            "right": null,
            "top": null,
            "visibility": null,
            "width": null
          }
        },
        "583d347667714e2ea9088bdc038172d2": {
          "model_module": "@jupyter-widgets/controls",
          "model_name": "ProgressStyleModel",
          "model_module_version": "1.5.0",
          "state": {
            "_model_module": "@jupyter-widgets/controls",
            "_model_module_version": "1.5.0",
            "_model_name": "ProgressStyleModel",
            "_view_count": null,
            "_view_module": "@jupyter-widgets/base",
            "_view_module_version": "1.2.0",
            "_view_name": "StyleView",
            "bar_color": null,
            "description_width": ""
          }
        },
        "a787905dab144f568f4ed3b345ec27e5": {
          "model_module": "@jupyter-widgets/base",
          "model_name": "LayoutModel",
          "model_module_version": "1.2.0",
          "state": {
            "_model_module": "@jupyter-widgets/base",
            "_model_module_version": "1.2.0",
            "_model_name": "LayoutModel",
            "_view_count": null,
            "_view_module": "@jupyter-widgets/base",
            "_view_module_version": "1.2.0",
            "_view_name": "LayoutView",
            "align_content": null,
            "align_items": null,
            "align_self": null,
            "border": null,
            "bottom": null,
            "display": null,
            "flex": null,
            "flex_flow": null,
            "grid_area": null,
            "grid_auto_columns": null,
            "grid_auto_flow": null,
            "grid_auto_rows": null,
            "grid_column": null,
            "grid_gap": null,
            "grid_row": null,
            "grid_template_areas": null,
            "grid_template_columns": null,
            "grid_template_rows": null,
            "height": null,
            "justify_content": null,
            "justify_items": null,
            "left": null,
            "margin": null,
            "max_height": null,
            "max_width": null,
            "min_height": null,
            "min_width": null,
            "object_fit": null,
            "object_position": null,
            "order": null,
            "overflow": null,
            "overflow_x": null,
            "overflow_y": null,
            "padding": null,
            "right": null,
            "top": null,
            "visibility": null,
            "width": null
          }
        },
        "a15c7084601741c2b71d0c4f3b5d93d8": {
          "model_module": "@jupyter-widgets/controls",
          "model_name": "DescriptionStyleModel",
          "model_module_version": "1.5.0",
          "state": {
            "_model_module": "@jupyter-widgets/controls",
            "_model_module_version": "1.5.0",
            "_model_name": "DescriptionStyleModel",
            "_view_count": null,
            "_view_module": "@jupyter-widgets/base",
            "_view_module_version": "1.2.0",
            "_view_name": "StyleView",
            "description_width": ""
          }
        }
      }
    }
  },
  "cells": [
    {
      "cell_type": "markdown",
      "metadata": {
        "id": "view-in-github",
        "colab_type": "text"
      },
      "source": [
        "<a href=\"https://colab.research.google.com/github/rdkworld/AIPND-2022/blob/main/Generalized/Train_an_Existing_Pytorch_Model.ipynb\" target=\"_parent\"><img src=\"https://colab.research.google.com/assets/colab-badge.svg\" alt=\"Open In Colab\"/></a>"
      ]
    },
    {
      "cell_type": "markdown",
      "source": [
        "# Train Pre-trained models on Custom Datasets"
      ],
      "metadata": {
        "id": "MaoKz3IWk1ln"
      }
    },
    {
      "cell_type": "markdown",
      "source": [
        "##Pre-requisite Setup"
      ],
      "metadata": {
        "id": "0PB5a4bgZY0I"
      }
    },
    {
      "cell_type": "markdown",
      "source": [
        "### User Input Parameters including Hyperparameters"
      ],
      "metadata": {
        "id": "h_MFjg_Ke8G1"
      }
    },
    {
      "cell_type": "code",
      "source": [
        "#Data\n",
        "SOURCE_URL = 'https://www.robots.ox.ac.uk/~vgg/data/flowers/102/102flowers.tgz'\n",
        "BASE_DIRECTORY = 'flowers'\n",
        "DATA_DIRECTORY = 'data'\n",
        "MODEL_DIRECTORY = 'models'\n",
        "FILE_NAME = 'flowers.tar.gz'\n",
        "\n",
        "# Setup hyperparameters\n",
        "NUM_EPOCHS = 5\n",
        "BATCH_SIZE = 64\n",
        "HIDDEN_UNITS = '' #Not used for pretrained\n",
        "LEARNING_RATE = 0.003\n",
        "MODEL_NAME = 'vit_b_16'\n",
        "MODEL_WEIGHT = 'ViT_B_16' \n",
        "LOSS_FUNCTION = 'CrossEntropyLoss'\n",
        "OPTIMIZER = 'Adam'\n",
        "MANUAL_RESIZE = 64 #Not used\n",
        "NUM_CLASSES = 102\n",
        "FEATURE_EXTRACT = True\n",
        "RGB = 3 #(Color picture is 3, black & white is 1)"
      ],
      "metadata": {
        "id": "5Eo7rXBefwJT"
      },
      "execution_count": null,
      "outputs": []
    },
    {
      "cell_type": "markdown",
      "source": [
        "###Get Libraries"
      ],
      "metadata": {
        "id": "06WelAjucNyF"
      }
    },
    {
      "cell_type": "code",
      "execution_count": null,
      "metadata": {
        "colab": {
          "base_uri": "https://localhost:8080/"
        },
        "id": "D7zy5B3MY-ON",
        "outputId": "f2347a2f-dc05-4ac5-f00a-e4d75d231b8f"
      },
      "outputs": [
        {
          "output_type": "stream",
          "name": "stdout",
          "text": [
            "torch version: 1.12.1+cu113\n",
            "torchvision version: 0.13.1+cu113\n"
          ]
        }
      ],
      "source": [
        "# Install atleast torch 1.12+ and torchvision 0.13+\n",
        "try:\n",
        "    import torch\n",
        "    import torchvision\n",
        "    assert int(torch.__version__.split(\".\")[1]) >= 12, \"torch version should be 1.12+\"\n",
        "    assert int(torchvision.__version__.split(\".\")[1]) >= 13, \"torchvision version should be 0.13+\"\n",
        "    print(f\"torch version: {torch.__version__}\")\n",
        "    print(f\"torchvision version: {torchvision.__version__}\")\n",
        "except:\n",
        "    print(f\"[INFO] torch/torchvision versions not as required, installing nightly versions.\")\n",
        "    !pip3 install -U --pre torch torchvision torchaudio --extra-index-url https://download.pytorch.org/whl/nightly/cu113\n",
        "    import torch\n",
        "    import torchvision\n",
        "    print(f\"torch version: {torch.__version__}\")\n",
        "    print(f\"torchvision version: {torchvision.__version__}\")"
      ]
    },
    {
      "cell_type": "markdown",
      "source": [
        "###Regular Imports"
      ],
      "metadata": {
        "id": "TjUjLP0OcUQv"
      }
    },
    {
      "cell_type": "code",
      "source": [
        "# Continue with regular imports\n",
        "import matplotlib.pyplot as plt\n",
        "import torch\n",
        "import torchvision\n",
        "\n",
        "from torch import nn\n",
        "from torchvision import transforms\n",
        "\n",
        "# Try to get torchinfo, install it if it doesn't work\n",
        "try:\n",
        "    from torchinfo import summary\n",
        "except:\n",
        "    print(\"[INFO] Couldn't find torchinfo... installing it.\")\n",
        "    !pip install -q torchinfo\n",
        "    from torchinfo import summary\n",
        "\n",
        "#Additions from functions\n",
        "import os\n",
        "import sys\n",
        "import tarfile\n",
        "from pathlib import Path"
      ],
      "metadata": {
        "id": "jxBuV0LRalcM",
        "colab": {
          "base_uri": "https://localhost:8080/"
        },
        "outputId": "9f76fa75-ce0e-4376-915d-0de64aa9679c"
      },
      "execution_count": null,
      "outputs": [
        {
          "output_type": "stream",
          "name": "stdout",
          "text": [
            "[INFO] Couldn't find torchinfo... installing it.\n"
          ]
        }
      ]
    },
    {
      "cell_type": "markdown",
      "source": [
        "###Helpers/functions from Github"
      ],
      "metadata": {
        "id": "FvxZuuRJcieX"
      }
    },
    {
      "cell_type": "code",
      "source": [
        "# Try to import the helper functions, download it from GitHub if it doesn't work\n",
        "try:\n",
        "    import data_setup, engine, model_builder, utils \n",
        "    from helper_functions import download_data, set_seeds, plot_loss_curves, create_directory  \n",
        "    from predictions import pred_and_plot_image\n",
        "except:\n",
        "    # Get the scripts\n",
        "    print(\"[INFO] Couldn't find the scripts... downloading them from GitHub.\")\n",
        "    !git clone https://github.com/rdkworld/AIPND-2022\n",
        "    #create_directory(Path().absolute() / BASE_DIRECTORY)\n",
        "    !mkdir --parents /content/$BASE_DIRECTORY \n",
        "    !mv AIPND-2022/Generalized/*.py /content/$BASE_DIRECTORY\n",
        "    !rm -rf AIPND-2022\n",
        "    sys.path.append(os.path.join(os.getcwd(), BASE_DIRECTORY))\n",
        "    import data_setup, engine, model_builder, utils \n",
        "    from helper_functions import download_data, set_seeds, plot_loss_curves, create_directory\n",
        "    from predictions import pred_and_plot_image"
      ],
      "metadata": {
        "id": "xy7UmQPTchnY"
      },
      "execution_count": null,
      "outputs": []
    },
    {
      "cell_type": "code",
      "source": [
        "#Create Directory Structure\n",
        "create_directory(Path(BASE_DIRECTORY))\n",
        "create_directory(Path(BASE_DIRECTORY) / DATA_DIRECTORY)\n",
        "create_directory(Path(BASE_DIRECTORY) / MODEL_DIRECTORY)\n",
        "\n",
        "train_dir = f\"{BASE_DIRECTORY}/{DATA_DIRECTORY}/{BASE_DIRECTORY}/train\"\n",
        "valid_dir = f\"{BASE_DIRECTORY}/{DATA_DIRECTORY}/{BASE_DIRECTORY}/valid\"\n",
        "test_dir = f\"{BASE_DIRECTORY}/{DATA_DIRECTORY}/{BASE_DIRECTORY}/test\""
      ],
      "metadata": {
        "id": "o4MRXQqO_r2V"
      },
      "execution_count": null,
      "outputs": []
    },
    {
      "cell_type": "markdown",
      "source": [
        "### Connect Colab and Google Drive to save and load models"
      ],
      "metadata": {
        "id": "hpHEp3Wsg5Nn"
      }
    },
    {
      "cell_type": "code",
      "source": [
        "#Mount Google Drive \n",
        "from google.colab import drive\n",
        "drive.mount('/content/drive')"
      ],
      "metadata": {
        "id": "-8ByoAzAg3sB",
        "colab": {
          "base_uri": "https://localhost:8080/"
        },
        "outputId": "f40f39fb-31da-47fb-c9f1-c65be544ff00"
      },
      "execution_count": null,
      "outputs": [
        {
          "output_type": "stream",
          "name": "stdout",
          "text": [
            "Mounted at /content/drive\n"
          ]
        }
      ]
    },
    {
      "cell_type": "markdown",
      "source": [
        "###Setup target device"
      ],
      "metadata": {
        "id": "ObsXXY47efcQ"
      }
    },
    {
      "cell_type": "code",
      "source": [
        "# Setup target device\n",
        "device = \"cuda\" if torch.cuda.is_available() else \"cpu\"\n",
        "device"
      ],
      "metadata": {
        "colab": {
          "base_uri": "https://localhost:8080/",
          "height": 36
        },
        "id": "P61CnE2WedzB",
        "outputId": "7f14173e-9935-409e-feeb-3bdc279b37a9"
      },
      "execution_count": null,
      "outputs": [
        {
          "output_type": "execute_result",
          "data": {
            "text/plain": [
              "'cuda'"
            ],
            "application/vnd.google.colaboratory.intrinsic+json": {
              "type": "string"
            }
          },
          "metadata": {},
          "execution_count": 7
        }
      ]
    },
    {
      "cell_type": "markdown",
      "source": [
        "##Download data and categorize into train/valid/test folders as required"
      ],
      "metadata": {
        "id": "IFcdIJxzdetT"
      }
    },
    {
      "cell_type": "code",
      "source": [
        "#Work in Progress, See next cell as a temporary measure"
      ],
      "metadata": {
        "id": "O_uuT5PTdAgF"
      },
      "execution_count": null,
      "outputs": []
    },
    {
      "cell_type": "code",
      "source": [
        "#Temporarily copy from Google Drive\n",
        "!cp /content/drive/MyDrive/flowers.tar.gz $BASE_DIRECTORY/$DATA_DIRECTORY #copy from drive to colab"
      ],
      "metadata": {
        "id": "HIo3yrwvh8mM"
      },
      "execution_count": null,
      "outputs": []
    },
    {
      "cell_type": "code",
      "source": [
        "#Temporarily comment\n",
        "#!tar xf $BASE_DATA_DIRECTORY/$FILE_NAME"
      ],
      "metadata": {
        "id": "r4N5Dm10q_u5"
      },
      "execution_count": null,
      "outputs": []
    },
    {
      "cell_type": "markdown",
      "source": [
        "## Ignore below errors, data is getting unzipped, need to figure out to remove the error though"
      ],
      "metadata": {
        "id": "AIKhVS44lVxl"
      }
    },
    {
      "cell_type": "code",
      "source": [
        "#Untar the file\n",
        "#with tarfile.open(os.path.join(BASE_DIRECTORY, DATA_DIRECTORY, FILE_NAME), \"r\") as tar_ref:\n",
        "with tarfile.open(Path(BASE_DIRECTORY) / DATA_DIRECTORY / FILE_NAME, \"r\") as tar_ref:\n",
        "    print(f\"[INFO] Unzipping {FILE_NAME}...\") \n",
        "    tar_ref.extractall(Path(BASE_DIRECTORY) / DATA_DIRECTORY)"
      ],
      "metadata": {
        "colab": {
          "base_uri": "https://localhost:8080/",
          "height": 376
        },
        "id": "omb0fWoWn49x",
        "outputId": "eb2df14d-3c08-498d-b4c9-d8d67337725c"
      },
      "execution_count": null,
      "outputs": [
        {
          "output_type": "stream",
          "name": "stdout",
          "text": [
            "[INFO] Unzipping flowers.tar.gz...\n"
          ]
        },
        {
          "output_type": "error",
          "ename": "EOFError",
          "evalue": "ignored",
          "traceback": [
            "\u001b[0;31m---------------------------------------------------------------------------\u001b[0m",
            "\u001b[0;31mEOFError\u001b[0m                                  Traceback (most recent call last)",
            "\u001b[0;32m<ipython-input-11-5223e4b72826>\u001b[0m in \u001b[0;36m<module>\u001b[0;34m\u001b[0m\n\u001b[1;32m      3\u001b[0m \u001b[0;32mwith\u001b[0m \u001b[0mtarfile\u001b[0m\u001b[0;34m.\u001b[0m\u001b[0mopen\u001b[0m\u001b[0;34m(\u001b[0m\u001b[0mPath\u001b[0m\u001b[0;34m(\u001b[0m\u001b[0mBASE_DIRECTORY\u001b[0m\u001b[0;34m)\u001b[0m \u001b[0;34m/\u001b[0m \u001b[0mDATA_DIRECTORY\u001b[0m \u001b[0;34m/\u001b[0m \u001b[0mFILE_NAME\u001b[0m\u001b[0;34m,\u001b[0m \u001b[0;34m\"r\"\u001b[0m\u001b[0;34m)\u001b[0m \u001b[0;32mas\u001b[0m \u001b[0mtar_ref\u001b[0m\u001b[0;34m:\u001b[0m\u001b[0;34m\u001b[0m\u001b[0;34m\u001b[0m\u001b[0m\n\u001b[1;32m      4\u001b[0m     \u001b[0mprint\u001b[0m\u001b[0;34m(\u001b[0m\u001b[0;34mf\"[INFO] Unzipping {FILE_NAME}...\"\u001b[0m\u001b[0;34m)\u001b[0m\u001b[0;34m\u001b[0m\u001b[0;34m\u001b[0m\u001b[0m\n\u001b[0;32m----> 5\u001b[0;31m     \u001b[0mtar_ref\u001b[0m\u001b[0;34m.\u001b[0m\u001b[0mextractall\u001b[0m\u001b[0;34m(\u001b[0m\u001b[0mPath\u001b[0m\u001b[0;34m(\u001b[0m\u001b[0mBASE_DIRECTORY\u001b[0m\u001b[0;34m)\u001b[0m \u001b[0;34m/\u001b[0m \u001b[0mDATA_DIRECTORY\u001b[0m\u001b[0;34m)\u001b[0m\u001b[0;34m\u001b[0m\u001b[0;34m\u001b[0m\u001b[0m\n\u001b[0m",
            "\u001b[0;32m/usr/lib/python3.7/tarfile.py\u001b[0m in \u001b[0;36mextractall\u001b[0;34m(self, path, members, numeric_owner)\u001b[0m\n\u001b[1;32m   2000\u001b[0m             \u001b[0;31m# Do not set_attrs directories, as we will do that further down\u001b[0m\u001b[0;34m\u001b[0m\u001b[0;34m\u001b[0m\u001b[0;34m\u001b[0m\u001b[0m\n\u001b[1;32m   2001\u001b[0m             self.extract(tarinfo, path, set_attrs=not tarinfo.isdir(),\n\u001b[0;32m-> 2002\u001b[0;31m                          numeric_owner=numeric_owner)\n\u001b[0m\u001b[1;32m   2003\u001b[0m \u001b[0;34m\u001b[0m\u001b[0m\n\u001b[1;32m   2004\u001b[0m         \u001b[0;31m# Reverse sort directories.\u001b[0m\u001b[0;34m\u001b[0m\u001b[0;34m\u001b[0m\u001b[0;34m\u001b[0m\u001b[0m\n",
            "\u001b[0;32m/usr/lib/python3.7/tarfile.py\u001b[0m in \u001b[0;36mextract\u001b[0;34m(self, member, path, set_attrs, numeric_owner)\u001b[0m\n\u001b[1;32m   2042\u001b[0m             self._extract_member(tarinfo, os.path.join(path, tarinfo.name),\n\u001b[1;32m   2043\u001b[0m                                  \u001b[0mset_attrs\u001b[0m\u001b[0;34m=\u001b[0m\u001b[0mset_attrs\u001b[0m\u001b[0;34m,\u001b[0m\u001b[0;34m\u001b[0m\u001b[0;34m\u001b[0m\u001b[0m\n\u001b[0;32m-> 2044\u001b[0;31m                                  numeric_owner=numeric_owner)\n\u001b[0m\u001b[1;32m   2045\u001b[0m         \u001b[0;32mexcept\u001b[0m \u001b[0mOSError\u001b[0m \u001b[0;32mas\u001b[0m \u001b[0me\u001b[0m\u001b[0;34m:\u001b[0m\u001b[0;34m\u001b[0m\u001b[0;34m\u001b[0m\u001b[0m\n\u001b[1;32m   2046\u001b[0m             \u001b[0;32mif\u001b[0m \u001b[0mself\u001b[0m\u001b[0;34m.\u001b[0m\u001b[0merrorlevel\u001b[0m \u001b[0;34m>\u001b[0m \u001b[0;36m0\u001b[0m\u001b[0;34m:\u001b[0m\u001b[0;34m\u001b[0m\u001b[0;34m\u001b[0m\u001b[0m\n",
            "\u001b[0;32m/usr/lib/python3.7/tarfile.py\u001b[0m in \u001b[0;36m_extract_member\u001b[0;34m(self, tarinfo, targetpath, set_attrs, numeric_owner)\u001b[0m\n\u001b[1;32m   2112\u001b[0m \u001b[0;34m\u001b[0m\u001b[0m\n\u001b[1;32m   2113\u001b[0m         \u001b[0;32mif\u001b[0m \u001b[0mtarinfo\u001b[0m\u001b[0;34m.\u001b[0m\u001b[0misreg\u001b[0m\u001b[0;34m(\u001b[0m\u001b[0;34m)\u001b[0m\u001b[0;34m:\u001b[0m\u001b[0;34m\u001b[0m\u001b[0;34m\u001b[0m\u001b[0m\n\u001b[0;32m-> 2114\u001b[0;31m             \u001b[0mself\u001b[0m\u001b[0;34m.\u001b[0m\u001b[0mmakefile\u001b[0m\u001b[0;34m(\u001b[0m\u001b[0mtarinfo\u001b[0m\u001b[0;34m,\u001b[0m \u001b[0mtargetpath\u001b[0m\u001b[0;34m)\u001b[0m\u001b[0;34m\u001b[0m\u001b[0;34m\u001b[0m\u001b[0m\n\u001b[0m\u001b[1;32m   2115\u001b[0m         \u001b[0;32melif\u001b[0m \u001b[0mtarinfo\u001b[0m\u001b[0;34m.\u001b[0m\u001b[0misdir\u001b[0m\u001b[0;34m(\u001b[0m\u001b[0;34m)\u001b[0m\u001b[0;34m:\u001b[0m\u001b[0;34m\u001b[0m\u001b[0;34m\u001b[0m\u001b[0m\n\u001b[1;32m   2116\u001b[0m             \u001b[0mself\u001b[0m\u001b[0;34m.\u001b[0m\u001b[0mmakedir\u001b[0m\u001b[0;34m(\u001b[0m\u001b[0mtarinfo\u001b[0m\u001b[0;34m,\u001b[0m \u001b[0mtargetpath\u001b[0m\u001b[0;34m)\u001b[0m\u001b[0;34m\u001b[0m\u001b[0;34m\u001b[0m\u001b[0m\n",
            "\u001b[0;32m/usr/lib/python3.7/tarfile.py\u001b[0m in \u001b[0;36mmakefile\u001b[0;34m(self, tarinfo, targetpath)\u001b[0m\n\u001b[1;32m   2161\u001b[0m                 \u001b[0mtarget\u001b[0m\u001b[0;34m.\u001b[0m\u001b[0mtruncate\u001b[0m\u001b[0;34m(\u001b[0m\u001b[0;34m)\u001b[0m\u001b[0;34m\u001b[0m\u001b[0;34m\u001b[0m\u001b[0m\n\u001b[1;32m   2162\u001b[0m             \u001b[0;32melse\u001b[0m\u001b[0;34m:\u001b[0m\u001b[0;34m\u001b[0m\u001b[0;34m\u001b[0m\u001b[0m\n\u001b[0;32m-> 2163\u001b[0;31m                 \u001b[0mcopyfileobj\u001b[0m\u001b[0;34m(\u001b[0m\u001b[0msource\u001b[0m\u001b[0;34m,\u001b[0m \u001b[0mtarget\u001b[0m\u001b[0;34m,\u001b[0m \u001b[0mtarinfo\u001b[0m\u001b[0;34m.\u001b[0m\u001b[0msize\u001b[0m\u001b[0;34m,\u001b[0m \u001b[0mReadError\u001b[0m\u001b[0;34m,\u001b[0m \u001b[0mbufsize\u001b[0m\u001b[0;34m)\u001b[0m\u001b[0;34m\u001b[0m\u001b[0;34m\u001b[0m\u001b[0m\n\u001b[0m\u001b[1;32m   2164\u001b[0m \u001b[0;34m\u001b[0m\u001b[0m\n\u001b[1;32m   2165\u001b[0m     \u001b[0;32mdef\u001b[0m \u001b[0mmakeunknown\u001b[0m\u001b[0;34m(\u001b[0m\u001b[0mself\u001b[0m\u001b[0;34m,\u001b[0m \u001b[0mtarinfo\u001b[0m\u001b[0;34m,\u001b[0m \u001b[0mtargetpath\u001b[0m\u001b[0;34m)\u001b[0m\u001b[0;34m:\u001b[0m\u001b[0;34m\u001b[0m\u001b[0;34m\u001b[0m\u001b[0m\n",
            "\u001b[0;32m/usr/lib/python3.7/tarfile.py\u001b[0m in \u001b[0;36mcopyfileobj\u001b[0;34m(src, dst, length, exception, bufsize)\u001b[0m\n\u001b[1;32m    245\u001b[0m     \u001b[0mblocks\u001b[0m\u001b[0;34m,\u001b[0m \u001b[0mremainder\u001b[0m \u001b[0;34m=\u001b[0m \u001b[0mdivmod\u001b[0m\u001b[0;34m(\u001b[0m\u001b[0mlength\u001b[0m\u001b[0;34m,\u001b[0m \u001b[0mbufsize\u001b[0m\u001b[0;34m)\u001b[0m\u001b[0;34m\u001b[0m\u001b[0;34m\u001b[0m\u001b[0m\n\u001b[1;32m    246\u001b[0m     \u001b[0;32mfor\u001b[0m \u001b[0mb\u001b[0m \u001b[0;32min\u001b[0m \u001b[0mrange\u001b[0m\u001b[0;34m(\u001b[0m\u001b[0mblocks\u001b[0m\u001b[0;34m)\u001b[0m\u001b[0;34m:\u001b[0m\u001b[0;34m\u001b[0m\u001b[0;34m\u001b[0m\u001b[0m\n\u001b[0;32m--> 247\u001b[0;31m         \u001b[0mbuf\u001b[0m \u001b[0;34m=\u001b[0m \u001b[0msrc\u001b[0m\u001b[0;34m.\u001b[0m\u001b[0mread\u001b[0m\u001b[0;34m(\u001b[0m\u001b[0mbufsize\u001b[0m\u001b[0;34m)\u001b[0m\u001b[0;34m\u001b[0m\u001b[0;34m\u001b[0m\u001b[0m\n\u001b[0m\u001b[1;32m    248\u001b[0m         \u001b[0;32mif\u001b[0m \u001b[0mlen\u001b[0m\u001b[0;34m(\u001b[0m\u001b[0mbuf\u001b[0m\u001b[0;34m)\u001b[0m \u001b[0;34m<\u001b[0m \u001b[0mbufsize\u001b[0m\u001b[0;34m:\u001b[0m\u001b[0;34m\u001b[0m\u001b[0;34m\u001b[0m\u001b[0m\n\u001b[1;32m    249\u001b[0m             \u001b[0;32mraise\u001b[0m \u001b[0mexception\u001b[0m\u001b[0;34m(\u001b[0m\u001b[0;34m\"unexpected end of data\"\u001b[0m\u001b[0;34m)\u001b[0m\u001b[0;34m\u001b[0m\u001b[0;34m\u001b[0m\u001b[0m\n",
            "\u001b[0;32m/usr/lib/python3.7/gzip.py\u001b[0m in \u001b[0;36mread\u001b[0;34m(self, size)\u001b[0m\n\u001b[1;32m    285\u001b[0m             \u001b[0;32mimport\u001b[0m \u001b[0merrno\u001b[0m\u001b[0;34m\u001b[0m\u001b[0;34m\u001b[0m\u001b[0m\n\u001b[1;32m    286\u001b[0m             \u001b[0;32mraise\u001b[0m \u001b[0mOSError\u001b[0m\u001b[0;34m(\u001b[0m\u001b[0merrno\u001b[0m\u001b[0;34m.\u001b[0m\u001b[0mEBADF\u001b[0m\u001b[0;34m,\u001b[0m \u001b[0;34m\"read() on write-only GzipFile object\"\u001b[0m\u001b[0;34m)\u001b[0m\u001b[0;34m\u001b[0m\u001b[0;34m\u001b[0m\u001b[0m\n\u001b[0;32m--> 287\u001b[0;31m         \u001b[0;32mreturn\u001b[0m \u001b[0mself\u001b[0m\u001b[0;34m.\u001b[0m\u001b[0m_buffer\u001b[0m\u001b[0;34m.\u001b[0m\u001b[0mread\u001b[0m\u001b[0;34m(\u001b[0m\u001b[0msize\u001b[0m\u001b[0;34m)\u001b[0m\u001b[0;34m\u001b[0m\u001b[0;34m\u001b[0m\u001b[0m\n\u001b[0m\u001b[1;32m    288\u001b[0m \u001b[0;34m\u001b[0m\u001b[0m\n\u001b[1;32m    289\u001b[0m     \u001b[0;32mdef\u001b[0m \u001b[0mread1\u001b[0m\u001b[0;34m(\u001b[0m\u001b[0mself\u001b[0m\u001b[0;34m,\u001b[0m \u001b[0msize\u001b[0m\u001b[0;34m=\u001b[0m\u001b[0;34m-\u001b[0m\u001b[0;36m1\u001b[0m\u001b[0;34m)\u001b[0m\u001b[0;34m:\u001b[0m\u001b[0;34m\u001b[0m\u001b[0;34m\u001b[0m\u001b[0m\n",
            "\u001b[0;32m/usr/lib/python3.7/_compression.py\u001b[0m in \u001b[0;36mreadinto\u001b[0;34m(self, b)\u001b[0m\n\u001b[1;32m     66\u001b[0m     \u001b[0;32mdef\u001b[0m \u001b[0mreadinto\u001b[0m\u001b[0;34m(\u001b[0m\u001b[0mself\u001b[0m\u001b[0;34m,\u001b[0m \u001b[0mb\u001b[0m\u001b[0;34m)\u001b[0m\u001b[0;34m:\u001b[0m\u001b[0;34m\u001b[0m\u001b[0;34m\u001b[0m\u001b[0m\n\u001b[1;32m     67\u001b[0m         \u001b[0;32mwith\u001b[0m \u001b[0mmemoryview\u001b[0m\u001b[0;34m(\u001b[0m\u001b[0mb\u001b[0m\u001b[0;34m)\u001b[0m \u001b[0;32mas\u001b[0m \u001b[0mview\u001b[0m\u001b[0;34m,\u001b[0m \u001b[0mview\u001b[0m\u001b[0;34m.\u001b[0m\u001b[0mcast\u001b[0m\u001b[0;34m(\u001b[0m\u001b[0;34m\"B\"\u001b[0m\u001b[0;34m)\u001b[0m \u001b[0;32mas\u001b[0m \u001b[0mbyte_view\u001b[0m\u001b[0;34m:\u001b[0m\u001b[0;34m\u001b[0m\u001b[0;34m\u001b[0m\u001b[0m\n\u001b[0;32m---> 68\u001b[0;31m             \u001b[0mdata\u001b[0m \u001b[0;34m=\u001b[0m \u001b[0mself\u001b[0m\u001b[0;34m.\u001b[0m\u001b[0mread\u001b[0m\u001b[0;34m(\u001b[0m\u001b[0mlen\u001b[0m\u001b[0;34m(\u001b[0m\u001b[0mbyte_view\u001b[0m\u001b[0;34m)\u001b[0m\u001b[0;34m)\u001b[0m\u001b[0;34m\u001b[0m\u001b[0;34m\u001b[0m\u001b[0m\n\u001b[0m\u001b[1;32m     69\u001b[0m             \u001b[0mbyte_view\u001b[0m\u001b[0;34m[\u001b[0m\u001b[0;34m:\u001b[0m\u001b[0mlen\u001b[0m\u001b[0;34m(\u001b[0m\u001b[0mdata\u001b[0m\u001b[0;34m)\u001b[0m\u001b[0;34m]\u001b[0m \u001b[0;34m=\u001b[0m \u001b[0mdata\u001b[0m\u001b[0;34m\u001b[0m\u001b[0;34m\u001b[0m\u001b[0m\n\u001b[1;32m     70\u001b[0m         \u001b[0;32mreturn\u001b[0m \u001b[0mlen\u001b[0m\u001b[0;34m(\u001b[0m\u001b[0mdata\u001b[0m\u001b[0;34m)\u001b[0m\u001b[0;34m\u001b[0m\u001b[0;34m\u001b[0m\u001b[0m\n",
            "\u001b[0;32m/usr/lib/python3.7/gzip.py\u001b[0m in \u001b[0;36mread\u001b[0;34m(self, size)\u001b[0m\n\u001b[1;32m    491\u001b[0m                 \u001b[0;32mbreak\u001b[0m\u001b[0;34m\u001b[0m\u001b[0;34m\u001b[0m\u001b[0m\n\u001b[1;32m    492\u001b[0m             \u001b[0;32mif\u001b[0m \u001b[0mbuf\u001b[0m \u001b[0;34m==\u001b[0m \u001b[0;34mb\"\"\u001b[0m\u001b[0;34m:\u001b[0m\u001b[0;34m\u001b[0m\u001b[0;34m\u001b[0m\u001b[0m\n\u001b[0;32m--> 493\u001b[0;31m                 raise EOFError(\"Compressed file ended before the \"\n\u001b[0m\u001b[1;32m    494\u001b[0m                                \"end-of-stream marker was reached\")\n\u001b[1;32m    495\u001b[0m \u001b[0;34m\u001b[0m\u001b[0m\n",
            "\u001b[0;31mEOFError\u001b[0m: Compressed file ended before the end-of-stream marker was reached"
          ]
        }
      ]
    },
    {
      "cell_type": "code",
      "source": [
        "if (Path(BASE_DIRECTORY) / DATA_DIRECTORY / FILE_NAME).is_file():\n",
        "  (Path(BASE_DIRECTORY) / DATA_DIRECTORY / FILE_NAME).unlink()"
      ],
      "metadata": {
        "id": "a0L2o97mouw4"
      },
      "execution_count": null,
      "outputs": []
    },
    {
      "cell_type": "markdown",
      "source": [
        "## Get info on Pre-Trained Models"
      ],
      "metadata": {
        "id": "gevSxhRFxrVc"
      }
    },
    {
      "cell_type": "markdown",
      "source": [
        "###Pre-trained Model & Transform Details"
      ],
      "metadata": {
        "id": "6hUgXVUs6Rgt"
      }
    },
    {
      "cell_type": "code",
      "source": [
        "#Get pre-trained model weights and model\n",
        "pretrained_weights = eval(f\"torchvision.models.{MODEL_WEIGHT}_Weights.DEFAULT\")\n",
        "pretrained_model = eval(f\"torchvision.models.{MODEL_NAME}(weights = pretrained_weights)\").to(device)\n",
        "auto_transforms = pretrained_weights.transforms()"
      ],
      "metadata": {
        "colab": {
          "base_uri": "https://localhost:8080/",
          "height": 67,
          "referenced_widgets": [
            "8b6a226f50c44ae9b156f652ea3e30a7",
            "5c7365abdf52474ba3019646ad1ad00b",
            "945e32cebec44f4699060d938683b768",
            "63df55fc348f4bc1a91dfe3ac20cd1a1",
            "84d812e2477f4b2b89322cbf81371bb4",
            "aa65bccfaf724aeebab1194125027a87",
            "ac4e12831c904a7ea0b0f781baa6e677",
            "f3b6dd142deb4a099b2ea6cff903ab4e",
            "b4b6bdd03e9249eca768f652d189c4ad",
            "c133ed7584be448796fc71adf3138f21",
            "2521922b8fee449a82aba3018af7a40e"
          ]
        },
        "id": "JQdS88CIu6fn",
        "outputId": "907489a7-640b-4a9c-8c48-79e53c926c1e"
      },
      "execution_count": null,
      "outputs": [
        {
          "output_type": "stream",
          "name": "stderr",
          "text": [
            "Downloading: \"https://download.pytorch.org/models/vit_b_16-c867db91.pth\" to /root/.cache/torch/hub/checkpoints/vit_b_16-c867db91.pth\n"
          ]
        },
        {
          "output_type": "display_data",
          "data": {
            "text/plain": [
              "  0%|          | 0.00/330M [00:00<?, ?B/s]"
            ],
            "application/vnd.jupyter.widget-view+json": {
              "version_major": 2,
              "version_minor": 0,
              "model_id": "8b6a226f50c44ae9b156f652ea3e30a7"
            }
          },
          "metadata": {}
        }
      ]
    },
    {
      "cell_type": "code",
      "source": [
        "# Print a summary using torchinfo (uncomment for actual output)\n",
        "summary(model=pretrained_model,\n",
        "        input_size= (BATCH_SIZE, RGB, auto_transforms.crop_size[0], auto_transforms.crop_size[0]),  # make sure this is \"input_size\", not \"input_shape\"\n",
        "        col_names=[\"input_size\", \"output_size\", \"num_params\", \"trainable\"],  # col_names=[\"input_size\"], # uncomment for smaller output\n",
        "        col_width=20,\n",
        "        row_settings=[\"var_names\"]\n",
        "), auto_transforms"
      ],
      "metadata": {
        "colab": {
          "base_uri": "https://localhost:8080/"
        },
        "id": "dfvSvX7f7TBY",
        "outputId": "1f76b4be-a3bd-4a3d-ba37-cb14e2915dff"
      },
      "execution_count": null,
      "outputs": [
        {
          "output_type": "execute_result",
          "data": {
            "text/plain": [
              "(======================================================================================================================================================\n",
              " Layer (type (var_name))                                                Input Shape          Output Shape         Param #              Trainable\n",
              " ======================================================================================================================================================\n",
              " VisionTransformer (VisionTransformer)                                  [64, 3, 224, 224]    [64, 1000]           768                  True\n",
              " ├─Conv2d (conv_proj)                                                   [64, 3, 224, 224]    [64, 768, 14, 14]    590,592              True\n",
              " ├─Encoder (encoder)                                                    [64, 197, 768]       [64, 197, 768]       151,296              True\n",
              " │    └─Dropout (dropout)                                               [64, 197, 768]       [64, 197, 768]       --                   --\n",
              " │    └─Sequential (layers)                                             [64, 197, 768]       [64, 197, 768]       --                   True\n",
              " │    │    └─EncoderBlock (encoder_layer_0)                             [64, 197, 768]       [64, 197, 768]       7,087,872            True\n",
              " │    │    └─EncoderBlock (encoder_layer_1)                             [64, 197, 768]       [64, 197, 768]       7,087,872            True\n",
              " │    │    └─EncoderBlock (encoder_layer_2)                             [64, 197, 768]       [64, 197, 768]       7,087,872            True\n",
              " │    │    └─EncoderBlock (encoder_layer_3)                             [64, 197, 768]       [64, 197, 768]       7,087,872            True\n",
              " │    │    └─EncoderBlock (encoder_layer_4)                             [64, 197, 768]       [64, 197, 768]       7,087,872            True\n",
              " │    │    └─EncoderBlock (encoder_layer_5)                             [64, 197, 768]       [64, 197, 768]       7,087,872            True\n",
              " │    │    └─EncoderBlock (encoder_layer_6)                             [64, 197, 768]       [64, 197, 768]       7,087,872            True\n",
              " │    │    └─EncoderBlock (encoder_layer_7)                             [64, 197, 768]       [64, 197, 768]       7,087,872            True\n",
              " │    │    └─EncoderBlock (encoder_layer_8)                             [64, 197, 768]       [64, 197, 768]       7,087,872            True\n",
              " │    │    └─EncoderBlock (encoder_layer_9)                             [64, 197, 768]       [64, 197, 768]       7,087,872            True\n",
              " │    │    └─EncoderBlock (encoder_layer_10)                            [64, 197, 768]       [64, 197, 768]       7,087,872            True\n",
              " │    │    └─EncoderBlock (encoder_layer_11)                            [64, 197, 768]       [64, 197, 768]       7,087,872            True\n",
              " │    └─LayerNorm (ln)                                                  [64, 197, 768]       [64, 197, 768]       1,536                True\n",
              " ├─Sequential (heads)                                                   [64, 768]            [64, 1000]           --                   True\n",
              " │    └─Linear (head)                                                   [64, 768]            [64, 1000]           769,000              True\n",
              " ======================================================================================================================================================\n",
              " Total params: 86,567,656\n",
              " Trainable params: 86,567,656\n",
              " Non-trainable params: 0\n",
              " Total mult-adds (G): 11.09\n",
              " ======================================================================================================================================================\n",
              " Input size (MB): 38.54\n",
              " Forward/backward pass size (MB): 6661.98\n",
              " Params size (MB): 260.62\n",
              " Estimated Total Size (MB): 6961.14\n",
              " ======================================================================================================================================================,\n",
              " ImageClassification(\n",
              "     crop_size=[224]\n",
              "     resize_size=[256]\n",
              "     mean=[0.485, 0.456, 0.406]\n",
              "     std=[0.229, 0.224, 0.225]\n",
              "     interpolation=InterpolationMode.BILINEAR\n",
              " ))"
            ]
          },
          "metadata": {},
          "execution_count": 14
        }
      ]
    },
    {
      "cell_type": "code",
      "source": [
        "# Create model with help from model_builder.py\n",
        "updated_pretrained_model = model_builder.update_last_layer_pretrained_model(pretrained_model, NUM_CLASSES, FEATURE_EXTRACT).to(device)"
      ],
      "metadata": {
        "id": "aU501-21IuyY"
      },
      "execution_count": null,
      "outputs": []
    },
    {
      "cell_type": "code",
      "source": [
        "summary(model=updated_pretrained_model,\n",
        "        input_size= (BATCH_SIZE, RGB, auto_transforms.crop_size[0], auto_transforms.crop_size[0]),  # make sure this is \"input_size\", not \"input_shape\"\n",
        "        col_names=[\"input_size\", \"output_size\", \"num_params\", \"trainable\"],  # col_names=[\"input_size\"], # uncomment for smaller output\n",
        "        col_width=20,\n",
        "        row_settings=[\"var_names\"]\n",
        ")"
      ],
      "metadata": {
        "colab": {
          "base_uri": "https://localhost:8080/"
        },
        "id": "ZFOSJ8VvJptq",
        "outputId": "bdc78a5d-a916-49f5-fbfb-649f4aaab343"
      },
      "execution_count": null,
      "outputs": [
        {
          "output_type": "execute_result",
          "data": {
            "text/plain": [
              "======================================================================================================================================================\n",
              "Layer (type (var_name))                                                Input Shape          Output Shape         Param #              Trainable\n",
              "======================================================================================================================================================\n",
              "VisionTransformer (VisionTransformer)                                  [64, 3, 224, 224]    [64, 102]            768                  Partial\n",
              "├─Conv2d (conv_proj)                                                   [64, 3, 224, 224]    [64, 768, 14, 14]    (590,592)            False\n",
              "├─Encoder (encoder)                                                    [64, 197, 768]       [64, 197, 768]       151,296              False\n",
              "│    └─Dropout (dropout)                                               [64, 197, 768]       [64, 197, 768]       --                   --\n",
              "│    └─Sequential (layers)                                             [64, 197, 768]       [64, 197, 768]       --                   False\n",
              "│    │    └─EncoderBlock (encoder_layer_0)                             [64, 197, 768]       [64, 197, 768]       (7,087,872)          False\n",
              "│    │    └─EncoderBlock (encoder_layer_1)                             [64, 197, 768]       [64, 197, 768]       (7,087,872)          False\n",
              "│    │    └─EncoderBlock (encoder_layer_2)                             [64, 197, 768]       [64, 197, 768]       (7,087,872)          False\n",
              "│    │    └─EncoderBlock (encoder_layer_3)                             [64, 197, 768]       [64, 197, 768]       (7,087,872)          False\n",
              "│    │    └─EncoderBlock (encoder_layer_4)                             [64, 197, 768]       [64, 197, 768]       (7,087,872)          False\n",
              "│    │    └─EncoderBlock (encoder_layer_5)                             [64, 197, 768]       [64, 197, 768]       (7,087,872)          False\n",
              "│    │    └─EncoderBlock (encoder_layer_6)                             [64, 197, 768]       [64, 197, 768]       (7,087,872)          False\n",
              "│    │    └─EncoderBlock (encoder_layer_7)                             [64, 197, 768]       [64, 197, 768]       (7,087,872)          False\n",
              "│    │    └─EncoderBlock (encoder_layer_8)                             [64, 197, 768]       [64, 197, 768]       (7,087,872)          False\n",
              "│    │    └─EncoderBlock (encoder_layer_9)                             [64, 197, 768]       [64, 197, 768]       (7,087,872)          False\n",
              "│    │    └─EncoderBlock (encoder_layer_10)                            [64, 197, 768]       [64, 197, 768]       (7,087,872)          False\n",
              "│    │    └─EncoderBlock (encoder_layer_11)                            [64, 197, 768]       [64, 197, 768]       (7,087,872)          False\n",
              "│    └─LayerNorm (ln)                                                  [64, 197, 768]       [64, 197, 768]       (1,536)              False\n",
              "├─Sequential (heads)                                                   [64, 768]            [64, 102]            --                   True\n",
              "│    └─Linear (head)                                                   [64, 768]            [64, 102]            78,438               True\n",
              "======================================================================================================================================================\n",
              "Total params: 85,877,094\n",
              "Trainable params: 78,438\n",
              "Non-trainable params: 85,798,656\n",
              "Total mult-adds (G): 11.04\n",
              "======================================================================================================================================================\n",
              "Input size (MB): 38.54\n",
              "Forward/backward pass size (MB): 6661.52\n",
              "Params size (MB): 257.85\n",
              "Estimated Total Size (MB): 6957.91\n",
              "======================================================================================================================================================"
            ]
          },
          "metadata": {},
          "execution_count": 16
        }
      ]
    },
    {
      "cell_type": "markdown",
      "source": [
        "###Dataloaders"
      ],
      "metadata": {
        "id": "Sy0RxYxp5c-S"
      }
    },
    {
      "cell_type": "code",
      "source": [
        "# Create data loaders\n",
        "train_dataloader, test_dataloader, class_names, class_to_idx = data_setup.create_dataloaders(\n",
        "    train_dir=train_dir,\n",
        "    test_dir=test_dir,\n",
        "    transform=auto_transforms,\n",
        "    batch_size=BATCH_SIZE\n",
        ")\n",
        "if len(class_names) != NUM_CLASSES:\n",
        "  print(\"Mismatch in the number of unique classes/labels and user input NUM_CLASSES\")\n",
        "  exit()"
      ],
      "metadata": {
        "id": "dqJxC0I85gzz"
      },
      "execution_count": null,
      "outputs": []
    },
    {
      "cell_type": "markdown",
      "source": [
        "###Set loss and optimizer"
      ],
      "metadata": {
        "id": "3Bu0gdWJ1m6-"
      }
    },
    {
      "cell_type": "code",
      "source": [
        "loss_fn = eval(f\"torch.nn.{LOSS_FUNCTION}()\")\n",
        "optimizer = eval(f\"torch.optim.{OPTIMIZER}(updated_pretrained_model.parameters(),lr=LEARNING_RATE)\")"
      ],
      "metadata": {
        "id": "9M-NMC_41s3Z"
      },
      "execution_count": null,
      "outputs": []
    },
    {
      "cell_type": "markdown",
      "source": [
        "###Do the training"
      ],
      "metadata": {
        "id": "2R2zpr4W3Rsp"
      }
    },
    {
      "cell_type": "code",
      "source": [
        "# Start training with help from engine.py\n",
        "pretrained_model_results = engine.train(model=updated_pretrained_model,\n",
        "             train_dataloader=train_dataloader,\n",
        "             test_dataloader=test_dataloader,\n",
        "             loss_fn=loss_fn,\n",
        "             optimizer=optimizer,\n",
        "             epochs=NUM_EPOCHS,\n",
        "             device=device)"
      ],
      "metadata": {
        "colab": {
          "base_uri": "https://localhost:8080/",
          "height": 140,
          "referenced_widgets": [
            "9d0d3032ea064851a1640e6572fe83b0",
            "d8aad69a017a4b609299f4d098442f95",
            "8639b1af8c454f81b4af728af2c37ef9",
            "df5f25cc164d45fc83bf8805c2e146fa",
            "f84155a1da7340f29a9cb36ae7afdfc3",
            "e05ea4dd37bd42d7a1c5089e220502d7",
            "027cad0e5c3e4827acfff8020b70eef8",
            "c2c5c80587904ee994982d9d33c95d25",
            "583d347667714e2ea9088bdc038172d2",
            "a787905dab144f568f4ed3b345ec27e5",
            "a15c7084601741c2b71d0c4f3b5d93d8"
          ]
        },
        "id": "yZV5M-Bc3SnY",
        "outputId": "aad5303e-4746-49fe-c65b-17c6fbc144f9"
      },
      "execution_count": null,
      "outputs": [
        {
          "data": {
            "application/vnd.jupyter.widget-view+json": {
              "model_id": "9d0d3032ea064851a1640e6572fe83b0",
              "version_major": 2,
              "version_minor": 0
            },
            "text/plain": [
              "  0%|          | 0/5 [00:00<?, ?it/s]"
            ]
          },
          "metadata": {},
          "output_type": "display_data"
        },
        {
          "output_type": "stream",
          "name": "stdout",
          "text": [
            "Epoch: 1 | train_loss: 0.1296 | train_acc: 0.9847 | test_loss: 0.2694 | test_acc: 0.9383\n",
            "Epoch: 2 | train_loss: 0.0770 | train_acc: 0.9948 | test_loss: 0.2340 | test_acc: 0.9402\n",
            "Epoch: 3 | train_loss: 0.0495 | train_acc: 0.9980 | test_loss: 0.2185 | test_acc: 0.9402\n",
            "Epoch: 4 | train_loss: 0.0363 | train_acc: 0.9988 | test_loss: 0.2111 | test_acc: 0.9495\n",
            "Epoch: 5 | train_loss: 0.0263 | train_acc: 0.9998 | test_loss: 0.1850 | test_acc: 0.9504\n"
          ]
        }
      ]
    },
    {
      "cell_type": "code",
      "source": [
        "#Plot the results/loss curves\n",
        "plot_loss_curves(pretrained_model_results)"
      ],
      "metadata": {
        "colab": {
          "base_uri": "https://localhost:8080/",
          "height": 458
        },
        "id": "9zAIB6LtGBaM",
        "outputId": "43ec71c9-12bf-4947-89c2-e9c74e7b26a3"
      },
      "execution_count": null,
      "outputs": [
        {
          "output_type": "display_data",
          "data": {
            "text/plain": [
              "<Figure size 1080x504 with 2 Axes>"
            ],
            "image/png": "[encoded data removed]"
          },
          "metadata": {
            "needs_background": "light"
          }
        }
      ]
    },
    {
      "cell_type": "markdown",
      "source": [
        "###Save the model\n",
        "\n"
      ],
      "metadata": {
        "id": "q__BxwZY3TYE"
      }
    },
    {
      "cell_type": "code",
      "source": [
        "checkpoint = {'state_dict': updated_pretrained_model.state_dict(),\n",
        "              'arch': MODEL_NAME,\n",
        "              'arch_weight': MODEL_WEIGHT,              \n",
        "              'arch_type': 'EXISTING',\n",
        "              'loss_function': LOSS_FUNCTION,\n",
        "              'optimizer': OPTIMIZER,                            \n",
        "              'class_names' : class_names,\n",
        "              'class_to_idx' : class_to_idx,\n",
        "              'hidden_units': HIDDEN_UNITS,\n",
        "              'num_classes' : NUM_CLASSES,\n",
        "              'feature_extract' : FEATURE_EXTRACT,\n",
        "              'gpu_or_cpu' : device\n",
        "             }"
      ],
      "metadata": {
        "id": "9H-ym50QmUYJ"
      },
      "execution_count": null,
      "outputs": []
    },
    {
      "cell_type": "code",
      "source": [
        "# Save the model on local drive\n",
        "utils.save_model(model=updated_pretrained_model, target_dir=f\"{BASE_DIRECTORY}/{MODEL_DIRECTORY}\", model_name=f\"{MODEL_NAME}_model.pth\", checkpoint = checkpoint)"
      ],
      "metadata": {
        "colab": {
          "base_uri": "https://localhost:8080/"
        },
        "id": "8-KOsJLF31SF",
        "outputId": "cb13b83c-9f22-4d4d-af72-85dc82a4a8c6"
      },
      "execution_count": null,
      "outputs": [
        {
          "output_type": "stream",
          "name": "stdout",
          "text": [
            "[INFO] Saving model to: flowers/models/vit_b_16_model.pth\n"
          ]
        }
      ]
    },
    {
      "cell_type": "code",
      "source": [
        "#Size of the model\n",
        "pretrained_model_size = Path(f\"{BASE_DIRECTORY}/{MODEL_DIRECTORY}/{MODEL_NAME}_model.pth\").stat().st_size // (1024*1024) # division converts bytes to megabytes (roughly) \n",
        "print(f\"Pretrained model size: {pretrained_model_size} MB\")"
      ],
      "metadata": {
        "colab": {
          "base_uri": "https://localhost:8080/"
        },
        "id": "7nxGvreeE3Qu",
        "outputId": "84ccb5bb-cd7d-47db-bd6c-a57984bc4464"
      },
      "execution_count": null,
      "outputs": [
        {
          "output_type": "stream",
          "name": "stdout",
          "text": [
            "Pretrained model size: 327 MB\n"
          ]
        }
      ]
    },
    {
      "cell_type": "code",
      "source": [
        "#Export/Copy the model on remote\n",
        "#drive.flush_and_unmount()\n",
        "#drive.mount('/content/drive')\n",
        "!cp $BASE_DIRECTORY/$MODEL_DIRECTORY/\"$MODEL_NAME\"_model.pth /content/drive/MyDrive/ #copy from colab to drive"
      ],
      "metadata": {
        "id": "cgkl4BXmTzzU"
      },
      "execution_count": null,
      "outputs": []
    },
    {
      "cell_type": "markdown",
      "source": [
        "##Load the model\n"
      ],
      "metadata": {
        "id": "3wggG_62VOj3"
      }
    },
    {
      "cell_type": "code",
      "source": [
        "#Check the device and load the checkpoint\n",
        "if torch.cuda.is_available():\n",
        "    device = torch.device(\"cuda\") \n",
        "    checkpoint1 = torch.load(f\"{BASE_DIRECTORY}/{MODEL_DIRECTORY}/{MODEL_NAME}_model.pth\")\n",
        "else:\n",
        "    device = \"cpu\" #or torch.device(\"cpu\") \n",
        "    checkpoint1 = torch.load(f\"{BASE_DIRECTORY}/{MODEL_DIRECTORY}/{MODEL_NAME}_model.pth\", map_location = device)\n",
        "print(f\"Using {device} device for predicting/inference\")\n",
        "\n",
        "#Load/initialize the model\n",
        "pretrained_weights1 = eval(f\"torchvision.models.{MODEL_WEIGHT}_Weights.DEFAULT\")\n",
        "auto_transforms1 = pretrained_weights1.transforms()\n",
        "pretrained_model1 = eval(f\"torchvision.models.{MODEL_NAME}(weights = None)\")\n",
        "pretrained_model1 = model_builder.update_last_layer_pretrained_model(pretrained_model1, NUM_CLASSES, FEATURE_EXTRACT) \n",
        "pretrained_model1.class_to_idx = checkpoint1['class_to_idx']\n",
        "pretrained_model1.class_names = checkpoint1['class_names']\n",
        "pretrained_model1.load_state_dict(checkpoint1['state_dict'])\n",
        "pretrained_model1.to(device)"
      ],
      "metadata": {
        "colab": {
          "base_uri": "https://localhost:8080/"
        },
        "id": "V-GApVWrVRi3",
        "outputId": "b549a29b-f023-44c7-dfdb-97c49845cb22"
      },
      "execution_count": null,
      "outputs": [
        {
          "output_type": "stream",
          "name": "stdout",
          "text": [
            "Using cuda device for predicting/inference\n"
          ]
        },
        {
          "output_type": "execute_result",
          "data": {
            "text/plain": [
              "VisionTransformer(\n",
              "  (conv_proj): Conv2d(3, 768, kernel_size=(16, 16), stride=(16, 16))\n",
              "  (encoder): Encoder(\n",
              "    (dropout): Dropout(p=0.0, inplace=False)\n",
              "    (layers): Sequential(\n",
              "      (encoder_layer_0): EncoderBlock(\n",
              "        (ln_1): LayerNorm((768,), eps=1e-06, elementwise_affine=True)\n",
              "        (self_attention): MultiheadAttention(\n",
              "          (out_proj): NonDynamicallyQuantizableLinear(in_features=768, out_features=768, bias=True)\n",
              "        )\n",
              "        (dropout): Dropout(p=0.0, inplace=False)\n",
              "        (ln_2): LayerNorm((768,), eps=1e-06, elementwise_affine=True)\n",
              "        (mlp): MLPBlock(\n",
              "          (0): Linear(in_features=768, out_features=3072, bias=True)\n",
              "          (1): GELU(approximate=none)\n",
              "          (2): Dropout(p=0.0, inplace=False)\n",
              "          (3): Linear(in_features=3072, out_features=768, bias=True)\n",
              "          (4): Dropout(p=0.0, inplace=False)\n",
              "        )\n",
              "      )\n",
              "      (encoder_layer_1): EncoderBlock(\n",
              "        (ln_1): LayerNorm((768,), eps=1e-06, elementwise_affine=True)\n",
              "        (self_attention): MultiheadAttention(\n",
              "          (out_proj): NonDynamicallyQuantizableLinear(in_features=768, out_features=768, bias=True)\n",
              "        )\n",
              "        (dropout): Dropout(p=0.0, inplace=False)\n",
              "        (ln_2): LayerNorm((768,), eps=1e-06, elementwise_affine=True)\n",
              "        (mlp): MLPBlock(\n",
              "          (0): Linear(in_features=768, out_features=3072, bias=True)\n",
              "          (1): GELU(approximate=none)\n",
              "          (2): Dropout(p=0.0, inplace=False)\n",
              "          (3): Linear(in_features=3072, out_features=768, bias=True)\n",
              "          (4): Dropout(p=0.0, inplace=False)\n",
              "        )\n",
              "      )\n",
              "      (encoder_layer_2): EncoderBlock(\n",
              "        (ln_1): LayerNorm((768,), eps=1e-06, elementwise_affine=True)\n",
              "        (self_attention): MultiheadAttention(\n",
              "          (out_proj): NonDynamicallyQuantizableLinear(in_features=768, out_features=768, bias=True)\n",
              "        )\n",
              "        (dropout): Dropout(p=0.0, inplace=False)\n",
              "        (ln_2): LayerNorm((768,), eps=1e-06, elementwise_affine=True)\n",
              "        (mlp): MLPBlock(\n",
              "          (0): Linear(in_features=768, out_features=3072, bias=True)\n",
              "          (1): GELU(approximate=none)\n",
              "          (2): Dropout(p=0.0, inplace=False)\n",
              "          (3): Linear(in_features=3072, out_features=768, bias=True)\n",
              "          (4): Dropout(p=0.0, inplace=False)\n",
              "        )\n",
              "      )\n",
              "      (encoder_layer_3): EncoderBlock(\n",
              "        (ln_1): LayerNorm((768,), eps=1e-06, elementwise_affine=True)\n",
              "        (self_attention): MultiheadAttention(\n",
              "          (out_proj): NonDynamicallyQuantizableLinear(in_features=768, out_features=768, bias=True)\n",
              "        )\n",
              "        (dropout): Dropout(p=0.0, inplace=False)\n",
              "        (ln_2): LayerNorm((768,), eps=1e-06, elementwise_affine=True)\n",
              "        (mlp): MLPBlock(\n",
              "          (0): Linear(in_features=768, out_features=3072, bias=True)\n",
              "          (1): GELU(approximate=none)\n",
              "          (2): Dropout(p=0.0, inplace=False)\n",
              "          (3): Linear(in_features=3072, out_features=768, bias=True)\n",
              "          (4): Dropout(p=0.0, inplace=False)\n",
              "        )\n",
              "      )\n",
              "      (encoder_layer_4): EncoderBlock(\n",
              "        (ln_1): LayerNorm((768,), eps=1e-06, elementwise_affine=True)\n",
              "        (self_attention): MultiheadAttention(\n",
              "          (out_proj): NonDynamicallyQuantizableLinear(in_features=768, out_features=768, bias=True)\n",
              "        )\n",
              "        (dropout): Dropout(p=0.0, inplace=False)\n",
              "        (ln_2): LayerNorm((768,), eps=1e-06, elementwise_affine=True)\n",
              "        (mlp): MLPBlock(\n",
              "          (0): Linear(in_features=768, out_features=3072, bias=True)\n",
              "          (1): GELU(approximate=none)\n",
              "          (2): Dropout(p=0.0, inplace=False)\n",
              "          (3): Linear(in_features=3072, out_features=768, bias=True)\n",
              "          (4): Dropout(p=0.0, inplace=False)\n",
              "        )\n",
              "      )\n",
              "      (encoder_layer_5): EncoderBlock(\n",
              "        (ln_1): LayerNorm((768,), eps=1e-06, elementwise_affine=True)\n",
              "        (self_attention): MultiheadAttention(\n",
              "          (out_proj): NonDynamicallyQuantizableLinear(in_features=768, out_features=768, bias=True)\n",
              "        )\n",
              "        (dropout): Dropout(p=0.0, inplace=False)\n",
              "        (ln_2): LayerNorm((768,), eps=1e-06, elementwise_affine=True)\n",
              "        (mlp): MLPBlock(\n",
              "          (0): Linear(in_features=768, out_features=3072, bias=True)\n",
              "          (1): GELU(approximate=none)\n",
              "          (2): Dropout(p=0.0, inplace=False)\n",
              "          (3): Linear(in_features=3072, out_features=768, bias=True)\n",
              "          (4): Dropout(p=0.0, inplace=False)\n",
              "        )\n",
              "      )\n",
              "      (encoder_layer_6): EncoderBlock(\n",
              "        (ln_1): LayerNorm((768,), eps=1e-06, elementwise_affine=True)\n",
              "        (self_attention): MultiheadAttention(\n",
              "          (out_proj): NonDynamicallyQuantizableLinear(in_features=768, out_features=768, bias=True)\n",
              "        )\n",
              "        (dropout): Dropout(p=0.0, inplace=False)\n",
              "        (ln_2): LayerNorm((768,), eps=1e-06, elementwise_affine=True)\n",
              "        (mlp): MLPBlock(\n",
              "          (0): Linear(in_features=768, out_features=3072, bias=True)\n",
              "          (1): GELU(approximate=none)\n",
              "          (2): Dropout(p=0.0, inplace=False)\n",
              "          (3): Linear(in_features=3072, out_features=768, bias=True)\n",
              "          (4): Dropout(p=0.0, inplace=False)\n",
              "        )\n",
              "      )\n",
              "      (encoder_layer_7): EncoderBlock(\n",
              "        (ln_1): LayerNorm((768,), eps=1e-06, elementwise_affine=True)\n",
              "        (self_attention): MultiheadAttention(\n",
              "          (out_proj): NonDynamicallyQuantizableLinear(in_features=768, out_features=768, bias=True)\n",
              "        )\n",
              "        (dropout): Dropout(p=0.0, inplace=False)\n",
              "        (ln_2): LayerNorm((768,), eps=1e-06, elementwise_affine=True)\n",
              "        (mlp): MLPBlock(\n",
              "          (0): Linear(in_features=768, out_features=3072, bias=True)\n",
              "          (1): GELU(approximate=none)\n",
              "          (2): Dropout(p=0.0, inplace=False)\n",
              "          (3): Linear(in_features=3072, out_features=768, bias=True)\n",
              "          (4): Dropout(p=0.0, inplace=False)\n",
              "        )\n",
              "      )\n",
              "      (encoder_layer_8): EncoderBlock(\n",
              "        (ln_1): LayerNorm((768,), eps=1e-06, elementwise_affine=True)\n",
              "        (self_attention): MultiheadAttention(\n",
              "          (out_proj): NonDynamicallyQuantizableLinear(in_features=768, out_features=768, bias=True)\n",
              "        )\n",
              "        (dropout): Dropout(p=0.0, inplace=False)\n",
              "        (ln_2): LayerNorm((768,), eps=1e-06, elementwise_affine=True)\n",
              "        (mlp): MLPBlock(\n",
              "          (0): Linear(in_features=768, out_features=3072, bias=True)\n",
              "          (1): GELU(approximate=none)\n",
              "          (2): Dropout(p=0.0, inplace=False)\n",
              "          (3): Linear(in_features=3072, out_features=768, bias=True)\n",
              "          (4): Dropout(p=0.0, inplace=False)\n",
              "        )\n",
              "      )\n",
              "      (encoder_layer_9): EncoderBlock(\n",
              "        (ln_1): LayerNorm((768,), eps=1e-06, elementwise_affine=True)\n",
              "        (self_attention): MultiheadAttention(\n",
              "          (out_proj): NonDynamicallyQuantizableLinear(in_features=768, out_features=768, bias=True)\n",
              "        )\n",
              "        (dropout): Dropout(p=0.0, inplace=False)\n",
              "        (ln_2): LayerNorm((768,), eps=1e-06, elementwise_affine=True)\n",
              "        (mlp): MLPBlock(\n",
              "          (0): Linear(in_features=768, out_features=3072, bias=True)\n",
              "          (1): GELU(approximate=none)\n",
              "          (2): Dropout(p=0.0, inplace=False)\n",
              "          (3): Linear(in_features=3072, out_features=768, bias=True)\n",
              "          (4): Dropout(p=0.0, inplace=False)\n",
              "        )\n",
              "      )\n",
              "      (encoder_layer_10): EncoderBlock(\n",
              "        (ln_1): LayerNorm((768,), eps=1e-06, elementwise_affine=True)\n",
              "        (self_attention): MultiheadAttention(\n",
              "          (out_proj): NonDynamicallyQuantizableLinear(in_features=768, out_features=768, bias=True)\n",
              "        )\n",
              "        (dropout): Dropout(p=0.0, inplace=False)\n",
              "        (ln_2): LayerNorm((768,), eps=1e-06, elementwise_affine=True)\n",
              "        (mlp): MLPBlock(\n",
              "          (0): Linear(in_features=768, out_features=3072, bias=True)\n",
              "          (1): GELU(approximate=none)\n",
              "          (2): Dropout(p=0.0, inplace=False)\n",
              "          (3): Linear(in_features=3072, out_features=768, bias=True)\n",
              "          (4): Dropout(p=0.0, inplace=False)\n",
              "        )\n",
              "      )\n",
              "      (encoder_layer_11): EncoderBlock(\n",
              "        (ln_1): LayerNorm((768,), eps=1e-06, elementwise_affine=True)\n",
              "        (self_attention): MultiheadAttention(\n",
              "          (out_proj): NonDynamicallyQuantizableLinear(in_features=768, out_features=768, bias=True)\n",
              "        )\n",
              "        (dropout): Dropout(p=0.0, inplace=False)\n",
              "        (ln_2): LayerNorm((768,), eps=1e-06, elementwise_affine=True)\n",
              "        (mlp): MLPBlock(\n",
              "          (0): Linear(in_features=768, out_features=3072, bias=True)\n",
              "          (1): GELU(approximate=none)\n",
              "          (2): Dropout(p=0.0, inplace=False)\n",
              "          (3): Linear(in_features=3072, out_features=768, bias=True)\n",
              "          (4): Dropout(p=0.0, inplace=False)\n",
              "        )\n",
              "      )\n",
              "    )\n",
              "    (ln): LayerNorm((768,), eps=1e-06, elementwise_affine=True)\n",
              "  )\n",
              "  (heads): Sequential(\n",
              "    (head): Linear(in_features=768, out_features=102, bias=True)\n",
              "  )\n",
              ")"
            ]
          },
          "metadata": {},
          "execution_count": 55
        }
      ]
    },
    {
      "cell_type": "markdown",
      "source": [
        "##Inference"
      ],
      "metadata": {
        "id": "E96kFDnRDGAv"
      }
    },
    {
      "cell_type": "code",
      "source": [
        "!ls flowers/data/flowers/test/*"
      ],
      "metadata": {
        "colab": {
          "base_uri": "https://localhost:8080/"
        },
        "id": "tg4L8hHvDIdo",
        "outputId": "bf3f7d0a-d947-4370-fd31-7720a77b832a"
      },
      "execution_count": null,
      "outputs": [
        {
          "output_type": "stream",
          "name": "stdout",
          "text": [
            "flowers/data/flowers/test/1:\n",
            "image_06743.jpg  image_06754.jpg  image_06764.jpg\n",
            "image_06752.jpg  image_06760.jpg\n",
            "\n",
            "flowers/data/flowers/test/10:\n",
            "image_07090.jpg  image_07104.jpg  image_07117.jpg\n",
            "\n",
            "flowers/data/flowers/test/100:\n",
            "image_07896.jpg  image_07899.jpg  image_07926.jpg  image_07938.jpg\n",
            "image_07897.jpg  image_07902.jpg  image_07936.jpg  image_07939.jpg\n",
            "\n",
            "flowers/data/flowers/test/101:\n",
            "image_07949.jpg  image_07952.jpg  image_07983.jpg  image_07988.jpg\n",
            "\n",
            "flowers/data/flowers/test/102:\n",
            "image_08004.jpg  image_08015.jpg  image_08030.jpg\n",
            "image_08012.jpg  image_08023.jpg  image_08042.jpg\n",
            "\n",
            "flowers/data/flowers/test/11:\n",
            "image_03098.jpg  image_03141.jpg  image_03165.jpg\n",
            "image_03115.jpg  image_03147.jpg  image_03176.jpg\n",
            "image_03130.jpg  image_03151.jpg  image_03177.jpg\n",
            "\n",
            "flowers/data/flowers/test/12:\n",
            "image_03994.jpg  image_04014.jpg  image_04052.jpg\n",
            "image_03996.jpg  image_04016.jpg  image_04059.jpg\n",
            "image_04012.jpg  image_04023.jpg  image_04077.jpg\n",
            "\n",
            "flowers/data/flowers/test/13:\n",
            "image_05745.jpg  image_05767.jpg  image_05775.jpg\n",
            "image_05761.jpg  image_05769.jpg  image_05787.jpg\n",
            "\n",
            "flowers/data/flowers/test/14:\n",
            "image_06052.jpg  image_06083.jpg  image_06091.jpg\n",
            "\n",
            "flowers/data/flowers/test/15:\n",
            "image_06351.jpg  image_06360.jpg  image_06369.jpg  image_06374.jpg\n",
            "\n",
            "flowers/data/flowers/test/16:\n",
            "image_06657.jpg  image_06670.jpg  image_06673.jpg\n",
            "\n",
            "flowers/data/flowers/test/17:\n",
            "image_03830.jpg  image_03861.jpg  image_03893.jpg\n",
            "image_03846.jpg  image_03864.jpg  image_03906.jpg\n",
            "image_03855.jpg  image_03872.jpg  image_03911.jpg\n",
            "\n",
            "flowers/data/flowers/test/18:\n",
            "image_04254.jpg  image_04272.jpg  image_04292.jpg\n",
            "image_04256.jpg  image_04277.jpg  image_04322.jpg\n",
            "\n",
            "flowers/data/flowers/test/19:\n",
            "image_06155.jpg  image_06170.jpg  image_06186.jpg  image_06197.jpg\n",
            "image_06159.jpg  image_06175.jpg  image_06196.jpg\n",
            "\n",
            "flowers/data/flowers/test/2:\n",
            "image_05100.jpg  image_05109.jpg  image_05133.jpg\n",
            "image_05107.jpg  image_05125.jpg\n",
            "\n",
            "flowers/data/flowers/test/20:\n",
            "image_04910.jpg  image_04912.jpg  image_04938.jpg\n",
            "\n",
            "flowers/data/flowers/test/21:\n",
            "image_06805.jpg  image_06807.jpg\n",
            "\n",
            "flowers/data/flowers/test/22:\n",
            "image_05360.jpg  image_05362.jpg  image_05366.jpg  image_05391.jpg\n",
            "\n",
            "flowers/data/flowers/test/23:\n",
            "image_03382.jpg  image_03409.jpg  image_03440.jpg  image_03454.jpg\n",
            "image_03390.jpg  image_03414.jpg  image_03442.jpg\n",
            "\n",
            "flowers/data/flowers/test/24:\n",
            "image_06815.jpg  image_06849.jpg\n",
            "\n",
            "flowers/data/flowers/test/25:\n",
            "image_06580.jpg  image_06583.jpg  image_06611.jpg\n",
            "image_06582.jpg  image_06593.jpg\n",
            "\n",
            "flowers/data/flowers/test/26:\n",
            "image_06497.jpg  image_06500.jpg  image_06526.jpg\n",
            "image_06498.jpg  image_06514.jpg\n",
            "\n",
            "flowers/data/flowers/test/27:\n",
            "image_06864.jpg  image_06871.jpg  image_06887.jpg\n",
            "\n",
            "flowers/data/flowers/test/28:\n",
            "image_05214.jpg  image_05242.jpg  image_05270.jpg\n",
            "image_05230.jpg  image_05253.jpg  image_05277.jpg\n",
            "\n",
            "flowers/data/flowers/test/29:\n",
            "image_04083.jpg  image_04112.jpg  image_04142.jpg\n",
            "image_04090.jpg  image_04124.jpg  image_04145.jpg\n",
            "image_04095.jpg  image_04137.jpg  image_04146.jpg\n",
            "\n",
            "flowers/data/flowers/test/3:\n",
            "image_06634.jpg  image_06641.jpg\n",
            "\n",
            "flowers/data/flowers/test/30:\n",
            "image_03466.jpg  image_03488.jpg  image_03510.jpg  image_03541.jpg\n",
            "image_03481.jpg  image_03489.jpg  image_03512.jpg  image_03542.jpg\n",
            "image_03482.jpg  image_03506.jpg  image_03528.jpg\n",
            "image_03484.jpg  image_03509.jpg  image_03538.jpg\n",
            "\n",
            "flowers/data/flowers/test/31:\n",
            "image_06903.jpg  image_08070.jpg\n",
            "\n",
            "flowers/data/flowers/test/32:\n",
            "image_05591.jpg  image_05595.jpg  image_05610.jpg\n",
            "image_05592.jpg  image_05602.jpg  image_05614.jpg\n",
            "\n",
            "flowers/data/flowers/test/33:\n",
            "image_06454.jpg  image_06457.jpg  image_06470.jpg  image_06479.jpg\n",
            "image_06456.jpg  image_06460.jpg  image_06478.jpg  image_06486.jpg\n",
            "\n",
            "flowers/data/flowers/test/34:\n",
            "image_06929.jpg  image_06941.jpg  image_06961.jpg\n",
            "image_06933.jpg  image_06954.jpg\n",
            "\n",
            "flowers/data/flowers/test/35:\n",
            "image_06984.jpg  image_06992.jpg  image_08084.jpg\n",
            "image_06986.jpg  image_07006.jpg  image_08088.jpg\n",
            "\n",
            "flowers/data/flowers/test/36:\n",
            "image_04334.jpg  image_04364.jpg  image_04382.jpg  image_04400.jpg\n",
            "image_04344.jpg  image_04373.jpg  image_04392.jpg\n",
            "\n",
            "flowers/data/flowers/test/37:\n",
            "image_03734.jpg  image_03783.jpg  image_03807.jpg  image_03815.jpg\n",
            "image_03741.jpg  image_03789.jpg  image_03811.jpg  image_03821.jpg\n",
            "\n",
            "flowers/data/flowers/test/38:\n",
            "image_05796.jpg  image_05799.jpg  image_05812.jpg  image_05825.jpg\n",
            "image_05797.jpg  image_05806.jpg  image_05824.jpg  image_05833.jpg\n",
            "\n",
            "flowers/data/flowers/test/39:\n",
            "image_07010.jpg  image_07018.jpg  image_07043.jpg\n",
            "image_07016.jpg  image_07035.jpg\n",
            "\n",
            "flowers/data/flowers/test/4:\n",
            "image_05636.jpg  image_05640.jpg  image_05658.jpg\n",
            "image_05637.jpg  image_05653.jpg  image_05678.jpg\n",
            "\n",
            "flowers/data/flowers/test/40:\n",
            "image_04563.jpg  image_04573.jpg  image_04586.jpg  image_04588.jpg\n",
            "image_04568.jpg  image_04582.jpg  image_04587.jpg  image_04609.jpg\n",
            "\n",
            "flowers/data/flowers/test/41:\n",
            "image_02193.jpg  image_02245.jpg  image_02263.jpg  image_02305.jpg\n",
            "image_02200.jpg  image_02251.jpg  image_02266.jpg  image_02306.jpg\n",
            "image_02222.jpg  image_02257.jpg  image_02270.jpg\n",
            "image_02237.jpg  image_02261.jpg  image_02302.jpg\n",
            "\n",
            "flowers/data/flowers/test/42:\n",
            "image_05696.jpg  image_05711.jpg  image_05730.jpg  image_05731.jpg\n",
            "\n",
            "flowers/data/flowers/test/43:\n",
            "image_02329.jpg  image_02365.jpg  image_02386.jpg  image_02426.jpg\n",
            "image_02335.jpg  image_02369.jpg  image_02394.jpg  image_02431.jpg\n",
            "image_02346.jpg  image_02370.jpg  image_02400.jpg  image_02433.jpg\n",
            "image_02349.jpg  image_02371.jpg  image_02412.jpg  image_02435.jpg\n",
            "\n",
            "flowers/data/flowers/test/44:\n",
            "image_01502.jpg  image_01516.jpg  image_01530.jpg  image_01564.jpg\n",
            "image_01512.jpg  image_01518.jpg  image_01548.jpg  image_01578.jpg\n",
            "image_01515.jpg  image_01527.jpg  image_01560.jpg\n",
            "\n",
            "flowers/data/flowers/test/45:\n",
            "image_07139.jpg  image_07140.jpg  image_07142.jpg\n",
            "\n",
            "flowers/data/flowers/test/46:\n",
            "image_00958.jpg  image_00996.jpg  image_01071.jpg  image_01115.jpg\n",
            "image_00961.jpg  image_00999.jpg  image_01077.jpg  image_01119.jpg\n",
            "image_00969.jpg  image_01003.jpg  image_01078.jpg  image_01125.jpg\n",
            "image_00970.jpg  image_01026.jpg  image_01090.jpg\n",
            "image_00976.jpg  image_01038.jpg  image_01092.jpg\n",
            "image_00990.jpg  image_01061.jpg  image_01109.jpg\n",
            "\n",
            "flowers/data/flowers/test/47:\n",
            "image_04966.jpg  image_04993.jpg  image_05013.jpg\n",
            "\n",
            "flowers/data/flowers/test/48:\n",
            "image_04627.jpg  image_04665.jpg  image_04671.jpg\n",
            "image_04663.jpg  image_04667.jpg\n",
            "\n",
            "flowers/data/flowers/test/49:\n",
            "image_06202.jpg  image_06213.jpg  image_06215.jpg\n",
            "\n",
            "flowers/data/flowers/test/5:\n",
            "image_05159.jpg  image_05166.jpg  image_05169.jpg  image_05186.jpg\n",
            "\n",
            "flowers/data/flowers/test/50:\n",
            "image_06297.jpg  image_06319.jpg  image_06321.jpg  image_06546.jpg\n",
            "image_06318.jpg  image_06320.jpg  image_06541.jpg  image_06547.jpg\n",
            "\n",
            "flowers/data/flowers/test/51:\n",
            "image_01314.jpg  image_01370.jpg  image_01474.jpg  image_03973.jpg\n",
            "image_01316.jpg  image_01388.jpg  image_03926.jpg  image_03980.jpg\n",
            "image_01328.jpg  image_01406.jpg  image_03939.jpg  image_03984.jpg\n",
            "image_01335.jpg  image_01407.jpg  image_03954.jpg  image_03985.jpg\n",
            "image_01340.jpg  image_01457.jpg  image_03960.jpg  image_03986.jpg\n",
            "image_01362.jpg  image_01468.jpg  image_03968.jpg  image_03989.jpg\n",
            "\n",
            "flowers/data/flowers/test/52:\n",
            "image_04160.jpg  image_04168.jpg  image_04181.jpg  image_04221.jpg\n",
            "image_04167.jpg  image_04169.jpg  image_04200.jpg  image_04240.jpg\n",
            "\n",
            "flowers/data/flowers/test/53:\n",
            "image_03645.jpg  image_03662.jpg  image_03689.jpg  image_03718.jpg\n",
            "image_03649.jpg  image_03669.jpg  image_03712.jpg  image_03724.jpg\n",
            "image_03652.jpg  image_03672.jpg  image_03714.jpg\n",
            "image_03653.jpg  image_03677.jpg  image_03717.jpg\n",
            "\n",
            "flowers/data/flowers/test/54:\n",
            "image_05402.jpg  image_05413.jpg  image_05430.jpg  image_05440.jpg\n",
            "\n",
            "flowers/data/flowers/test/55:\n",
            "image_04701.jpg  image_04731.jpg  image_04740.jpg  image_04747.jpg\n",
            "image_04707.jpg  image_04733.jpg  image_04742.jpg\n",
            "\n",
            "flowers/data/flowers/test/56:\n",
            "image_02772.jpg  image_02785.jpg  image_02821.jpg  image_02841.jpg\n",
            "image_02779.jpg  image_02808.jpg  image_02825.jpg  image_02844.jpg\n",
            "\n",
            "flowers/data/flowers/test/57:\n",
            "image_07234.jpg  image_07250.jpg  image_08127.jpg  image_08134.jpg\n",
            "image_07241.jpg  image_07266.jpg  image_08129.jpg  image_08144.jpg\n",
            "image_07242.jpg  image_07267.jpg  image_08133.jpg\n",
            "\n",
            "flowers/data/flowers/test/58:\n",
            "image_02663.jpg  image_02687.jpg  image_02721.jpg  image_02743.jpg\n",
            "image_02672.jpg  image_02694.jpg  image_02722.jpg  image_02752.jpg\n",
            "image_02677.jpg  image_02695.jpg  image_02737.jpg\n",
            "image_02681.jpg  image_02719.jpg  image_02738.jpg\n",
            "\n",
            "flowers/data/flowers/test/59:\n",
            "image_05020.jpg  image_05038.jpg  image_05052.jpg  image_05067.jpg\n",
            "image_05033.jpg  image_05039.jpg  image_05064.jpg\n",
            "\n",
            "flowers/data/flowers/test/6:\n",
            "image_07173.jpg  image_07185.jpg  image_07199.jpg\n",
            "image_07181.jpg  image_07191.jpg  image_08106.jpg\n",
            "image_07182.jpg  image_07198.jpg  image_08108.jpg\n",
            "\n",
            "flowers/data/flowers/test/60:\n",
            "image_02932.jpg  image_02971.jpg  image_02987.jpg  image_03026.jpg\n",
            "image_02933.jpg  image_02977.jpg  image_03000.jpg\n",
            "image_02958.jpg  image_02978.jpg  image_03008.jpg\n",
            "\n",
            "flowers/data/flowers/test/61:\n",
            "image_06248.jpg  image_06251.jpg  image_06271.jpg  image_06284.jpg\n",
            "image_06249.jpg  image_06266.jpg  image_06279.jpg  image_06290.jpg\n",
            "\n",
            "flowers/data/flowers/test/62:\n",
            "image_07269.jpg  image_07276.jpg  image_08172.jpg  image_08177.jpg\n",
            "\n",
            "flowers/data/flowers/test/63:\n",
            "image_05875.jpg  image_05878.jpg  image_05882.jpg  image_05890.jpg\n",
            "\n",
            "flowers/data/flowers/test/64:\n",
            "image_06099.jpg  image_06130.jpg  image_06138.jpg\n",
            "image_06104.jpg  image_06134.jpg\n",
            "\n",
            "flowers/data/flowers/test/65:\n",
            "image_03188.jpg  image_03211.jpg  image_03252.jpg  image_03269.jpg\n",
            "image_03197.jpg  image_03243.jpg  image_03258.jpg\n",
            "\n",
            "flowers/data/flowers/test/66:\n",
            "image_05537.jpg  image_05549.jpg  image_05562.jpg  image_05582.jpg\n",
            "\n",
            "flowers/data/flowers/test/67:\n",
            "image_07056.jpg  image_07079.jpg  image_07080.jpg  image_07082.jpg\n",
            "\n",
            "flowers/data/flowers/test/68:\n",
            "image_05903.jpg  image_05927.jpg  image_05956.jpg\n",
            "\n",
            "flowers/data/flowers/test/69:\n",
            "image_05959.jpg  image_05971.jpg  image_05994.jpg\n",
            "\n",
            "flowers/data/flowers/test/7:\n",
            "image_07211.jpg  image_07218.jpg  image_08099.jpg\n",
            "image_07215.jpg  image_07219.jpg  image_08104.jpg\n",
            "\n",
            "flowers/data/flowers/test/70:\n",
            "image_05308.jpg  image_05324.jpg  image_05330.jpg  image_05331.jpg\n",
            "\n",
            "flowers/data/flowers/test/71:\n",
            "image_04482.jpg  image_04514.jpg  image_04524.jpg\n",
            "image_04488.jpg  image_04515.jpg  image_04555.jpg\n",
            "image_04512.jpg  image_04519.jpg  image_04557.jpg\n",
            "\n",
            "flowers/data/flowers/test/72:\n",
            "image_03547.jpg  image_03599.jpg  image_03624.jpg  image_03633.jpg\n",
            "image_03575.jpg  image_03603.jpg  image_03625.jpg  image_03635.jpg\n",
            "image_03593.jpg  image_03613.jpg  image_03628.jpg\n",
            "\n",
            "flowers/data/flowers/test/73:\n",
            "image_00258.jpg  image_00294.jpg  image_00337.jpg  image_00389.jpg\n",
            "image_00260.jpg  image_00303.jpg  image_00345.jpg  image_00394.jpg\n",
            "image_00277.jpg  image_00319.jpg  image_00349.jpg  image_00400.jpg\n",
            "image_00282.jpg  image_00320.jpg  image_00353.jpg  image_00401.jpg\n",
            "image_00284.jpg  image_00324.jpg  image_00365.jpg  image_00409.jpg\n",
            "image_00288.jpg  image_00330.jpg  image_00369.jpg  image_00426.jpg\n",
            "image_00291.jpg  image_00335.jpg  image_00387.jpg  image_00445.jpg\n",
            "\n",
            "flowers/data/flowers/test/74:\n",
            "image_01151.jpg  image_01200.jpg  image_01254.jpg  image_01307.jpg\n",
            "image_01165.jpg  image_01209.jpg  image_01256.jpg  image_01312.jpg\n",
            "image_01173.jpg  image_01213.jpg  image_01276.jpg\n",
            "image_01191.jpg  image_01249.jpg  image_01305.jpg\n",
            "\n",
            "flowers/data/flowers/test/75:\n",
            "image_02075.jpg  image_02111.jpg  image_02144.jpg  image_02188.jpg\n",
            "image_02078.jpg  image_02115.jpg  image_02154.jpg\n",
            "image_02085.jpg  image_02119.jpg  image_02157.jpg\n",
            "image_02088.jpg  image_02135.jpg  image_02167.jpg\n",
            "\n",
            "flowers/data/flowers/test/76:\n",
            "image_02472.jpg  image_02479.jpg  image_02484.jpg  image_02550.jpg\n",
            "\n",
            "flowers/data/flowers/test/77:\n",
            "image_00005.jpg  image_00065.jpg  image_00177.jpg  image_00222.jpg\n",
            "image_00006.jpg  image_00092.jpg  image_00187.jpg  image_00239.jpg\n",
            "image_00024.jpg  image_00099.jpg  image_00191.jpg  image_00248.jpg\n",
            "image_00025.jpg  image_00114.jpg  image_00202.jpg  image_00251.jpg\n",
            "image_00029.jpg  image_00116.jpg  image_00203.jpg\n",
            "image_00050.jpg  image_00132.jpg  image_00204.jpg\n",
            "image_00060.jpg  image_00176.jpg  image_00212.jpg\n",
            "\n",
            "flowers/data/flowers/test/78:\n",
            "image_01830.jpg  image_01856.jpg  image_01903.jpg  image_01949.jpg\n",
            "image_01843.jpg  image_01874.jpg  image_01919.jpg  image_01953.jpg\n",
            "image_01848.jpg  image_01888.jpg  image_01928.jpg\n",
            "image_01855.jpg  image_01893.jpg  image_01931.jpg\n",
            "\n",
            "flowers/data/flowers/test/79:\n",
            "image_06708.jpg  image_06720.jpg  image_06726.jpg\n",
            "\n",
            "flowers/data/flowers/test/8:\n",
            "image_03291.jpg  image_03314.jpg  image_03347.jpg  image_03364.jpg\n",
            "image_03295.jpg  image_03319.jpg  image_03357.jpg\n",
            "image_03299.jpg  image_03320.jpg  image_03359.jpg\n",
            "\n",
            "flowers/data/flowers/test/80:\n",
            "image_01983.jpg  image_01996.jpg  image_02041.jpg  image_02055.jpg\n",
            "image_01990.jpg  image_02020.jpg  image_02049.jpg  image_02062.jpg\n",
            "image_01993.jpg  image_02023.jpg  image_02051.jpg\n",
            "\n",
            "flowers/data/flowers/test/81:\n",
            "image_00798.jpg  image_00825.jpg  image_00869.jpg  image_00946.jpg\n",
            "image_00814.jpg  image_00826.jpg  image_00888.jpg\n",
            "image_00815.jpg  image_00828.jpg  image_00898.jpg\n",
            "image_00818.jpg  image_00833.jpg  image_00926.jpg\n",
            "\n",
            "flowers/data/flowers/test/82:\n",
            "image_01594.jpg  image_01610.jpg  image_01661.jpg  image_01685.jpg\n",
            "image_01598.jpg  image_01614.jpg  image_01662.jpg  image_01686.jpg\n",
            "image_01599.jpg  image_01618.jpg  image_01666.jpg\n",
            "image_01603.jpg  image_01650.jpg  image_01672.jpg\n",
            "image_01609.jpg  image_01653.jpg  image_01679.jpg\n",
            "\n",
            "flowers/data/flowers/test/83:\n",
            "image_01735.jpg  image_01755.jpg  image_01777.jpg  image_01810.jpg\n",
            "image_01737.jpg  image_01759.jpg  image_01789.jpg  image_01818.jpg\n",
            "image_01742.jpg  image_01770.jpg  image_01805.jpg\n",
            "image_01748.jpg  image_01774.jpg  image_01809.jpg\n",
            "\n",
            "flowers/data/flowers/test/84:\n",
            "image_02557.jpg  image_02572.jpg  image_02583.jpg  image_02615.jpg\n",
            "image_02563.jpg  image_02576.jpg  image_02586.jpg\n",
            "image_02568.jpg  image_02581.jpg  image_02613.jpg\n",
            "\n",
            "flowers/data/flowers/test/85:\n",
            "image_04786.jpg  image_04805.jpg  image_04810.jpg  image_04825.jpg\n",
            "image_04797.jpg  image_04806.jpg  image_04814.jpg\n",
            "image_04801.jpg  image_04808.jpg  image_04819.jpg\n",
            "\n",
            "flowers/data/flowers/test/86:\n",
            "image_02865.jpg  image_02893.jpg  image_02912.jpg\n",
            "image_02873.jpg  image_02910.jpg\n",
            "\n",
            "flowers/data/flowers/test/87:\n",
            "image_05462.jpg  image_05469.jpg  image_05488.jpg\n",
            "image_05466.jpg  image_05485.jpg  image_05493.jpg\n",
            "\n",
            "flowers/data/flowers/test/88:\n",
            "image_00457.jpg  image_00482.jpg  image_00551.jpg  image_00594.jpg\n",
            "image_00467.jpg  image_00520.jpg  image_00563.jpg\n",
            "image_00474.jpg  image_00526.jpg  image_00582.jpg\n",
            "image_00477.jpg  image_00540.jpg  image_00584.jpg\n",
            "\n",
            "flowers/data/flowers/test/89:\n",
            "image_00610.jpg  image_00654.jpg  image_00724.jpg  image_00755.jpg\n",
            "image_00617.jpg  image_00676.jpg  image_00726.jpg  image_00756.jpg\n",
            "image_00634.jpg  image_00699.jpg  image_00740.jpg  image_00779.jpg\n",
            "image_00645.jpg  image_00708.jpg  image_00745.jpg\n",
            "\n",
            "flowers/data/flowers/test/9:\n",
            "image_06410.jpg  image_06413.jpg\n",
            "\n",
            "flowers/data/flowers/test/90:\n",
            "image_04405.jpg  image_04426.jpg  image_04432.jpg  image_04469.jpg\n",
            "image_04407.jpg  image_04428.jpg  image_04458.jpg  image_04473.jpg\n",
            "image_04417.jpg  image_04430.jpg  image_04459.jpg\n",
            "image_04420.jpg  image_04431.jpg  image_04468.jpg\n",
            "\n",
            "flowers/data/flowers/test/91:\n",
            "image_04851.jpg  image_04860.jpg  image_04875.jpg  image_04890.jpg\n",
            "image_04856.jpg  image_04870.jpg  image_04883.jpg  image_08061.jpg\n",
            "\n",
            "flowers/data/flowers/test/92:\n",
            "image_03032.jpg  image_03044.jpg  image_03052.jpg  image_03058.jpg\n",
            "image_03039.jpg  image_03048.jpg  image_03054.jpg  image_03075.jpg\n",
            "image_03041.jpg  image_03049.jpg  image_03056.jpg\n",
            "\n",
            "flowers/data/flowers/test/93:\n",
            "image_06014.jpg  image_06021.jpg  image_06033.jpg\n",
            "image_06017.jpg  image_06031.jpg  image_06037.jpg\n",
            "\n",
            "flowers/data/flowers/test/94:\n",
            "image_07308.jpg  image_07352.jpg  image_07370.jpg  image_07400.jpg\n",
            "image_07327.jpg  image_07357.jpg  image_07388.jpg  image_07415.jpg\n",
            "image_07333.jpg  image_07358.jpg  image_07395.jpg  image_07434.jpg\n",
            "image_07346.jpg  image_07361.jpg  image_07399.jpg  image_07436.jpg\n",
            "\n",
            "flowers/data/flowers/test/95:\n",
            "image_07468.jpg  image_07505.jpg  image_07536.jpg  image_07573.jpg\n",
            "image_07470.jpg  image_07508.jpg  image_07550.jpg  image_07584.jpg\n",
            "image_07472.jpg  image_07514.jpg  image_07551.jpg\n",
            "image_07487.jpg  image_07519.jpg  image_07561.jpg\n",
            "\n",
            "flowers/data/flowers/test/96:\n",
            "image_07596.jpg  image_07622.jpg  image_07672.jpg\n",
            "image_07597.jpg  image_07646.jpg  image_07676.jpg\n",
            "image_07606.jpg  image_07668.jpg  image_07683.jpg\n",
            "\n",
            "flowers/data/flowers/test/97:\n",
            "image_07696.jpg  image_07709.jpg  image_07737.jpg\n",
            "image_07708.jpg  image_07719.jpg\n",
            "\n",
            "flowers/data/flowers/test/98:\n",
            "image_07753.jpg  image_07758.jpg  image_07777.jpg  image_07787.jpg\n",
            "\n",
            "flowers/data/flowers/test/99:\n",
            "image_07833.jpg  image_07840.jpg  image_07857.jpg  image_07874.jpg\n",
            "image_07838.jpg  image_07854.jpg  image_07871.jpg\n"
          ]
        }
      ]
    },
    {
      "cell_type": "code",
      "source": [
        "# Predict on custom image\n",
        "#updated_pretrained_model\n",
        "custom_image_path = 'flowers/data/flowers/test/96/image_07622.jpg'\n",
        "pred_and_plot_image(model=pretrained_model1,\n",
        "                    image_path=custom_image_path,\n",
        "                    class_names=class_names,\n",
        "                    transform=auto_transforms)"
      ],
      "metadata": {
        "colab": {
          "base_uri": "https://localhost:8080/",
          "height": 264
        },
        "id": "6jIgQQ_uDOEP",
        "outputId": "c6c94ad1-24f5-4291-9232-f60a687130b3"
      },
      "execution_count": null,
      "outputs": [
        {
          "output_type": "display_data",
          "data": {
            "text/plain": [
              "<Figure size 432x288 with 1 Axes>"
            ],
            "image/png": "[encoded data removed]"
          },
          "metadata": {
            "needs_background": "light"
          }
        }
      ]
    }
  ]
}